{
 "cells": [
  {
   "cell_type": "code",
   "execution_count": 2,
   "metadata": {},
   "outputs": [
    {
     "name": "stdout",
     "output_type": "stream",
     "text": [
      "['Untitled Folder', 'Music', '.condarc', '.vim', '.DS_Store', '.CFUserTextEncoding', 'Untitled.ipynb', 'WhatsBusy-2020-Intern-Data-Science-Case-Study', '.zshrc', 'a.py', 'Pictures', 'heart.csv', 'Desktop.ipynb', '.zsh_history', 'Untitled2.ipynb', '.ipython', 'Desktop', 'Library', '.matplotlib', '.bitnami', '.spyder-py3', 'Heart-disease-prediction.ipynb', '.node_repl_history', 'Heart_disease_prediction.ipynb', 'Public', '.anaconda', 'Heart-disease prediction with different ML models.ipynb', '.ssh', 'Movies', 'Applications', '.dbshell', 'opt', '.Trash', '.ipynb_checkpoints', '.jupyter', 'Documents', '.kite', 'Downloads', '.gitconfig', '.mongorc.js', '.lesshsQ', '.viminfo', 'challange4.ipynb', '.conda']\n"
     ]
    }
   ],
   "source": [
    "import numpy as np \n",
    "import pandas as pd\n",
    "import matplotlib.pyplot as plt\n",
    "import seaborn as sns\n",
    "\n",
    "import os\n",
    "print(os.listdir())"
   ]
  },
  {
   "cell_type": "code",
   "execution_count": 3,
   "metadata": {},
   "outputs": [],
   "source": [
    "dataset = pd.read_csv('heart.csv')"
   ]
  },
  {
   "cell_type": "code",
   "execution_count": 4,
   "metadata": {},
   "outputs": [
    {
     "data": {
      "text/plain": [
       "pandas.core.frame.DataFrame"
      ]
     },
     "execution_count": 4,
     "metadata": {},
     "output_type": "execute_result"
    }
   ],
   "source": [
    "type(dataset)"
   ]
  },
  {
   "cell_type": "code",
   "execution_count": 5,
   "metadata": {},
   "outputs": [
    {
     "data": {
      "text/plain": [
       "(303, 14)"
      ]
     },
     "execution_count": 5,
     "metadata": {},
     "output_type": "execute_result"
    }
   ],
   "source": [
    "dataset.shape"
   ]
  },
  {
   "cell_type": "code",
   "execution_count": 6,
   "metadata": {},
   "outputs": [
    {
     "data": {
      "text/html": [
       "<div>\n",
       "<style scoped>\n",
       "    .dataframe tbody tr th:only-of-type {\n",
       "        vertical-align: middle;\n",
       "    }\n",
       "\n",
       "    .dataframe tbody tr th {\n",
       "        vertical-align: top;\n",
       "    }\n",
       "\n",
       "    .dataframe thead th {\n",
       "        text-align: right;\n",
       "    }\n",
       "</style>\n",
       "<table border=\"1\" class=\"dataframe\">\n",
       "  <thead>\n",
       "    <tr style=\"text-align: right;\">\n",
       "      <th></th>\n",
       "      <th>age</th>\n",
       "      <th>sex</th>\n",
       "      <th>cp</th>\n",
       "      <th>trestbps</th>\n",
       "      <th>chol</th>\n",
       "      <th>fbs</th>\n",
       "      <th>restecg</th>\n",
       "      <th>thalach</th>\n",
       "      <th>exang</th>\n",
       "      <th>oldpeak</th>\n",
       "      <th>slope</th>\n",
       "      <th>ca</th>\n",
       "      <th>thal</th>\n",
       "      <th>target</th>\n",
       "    </tr>\n",
       "  </thead>\n",
       "  <tbody>\n",
       "    <tr>\n",
       "      <th>0</th>\n",
       "      <td>63</td>\n",
       "      <td>1</td>\n",
       "      <td>3</td>\n",
       "      <td>145</td>\n",
       "      <td>233</td>\n",
       "      <td>1</td>\n",
       "      <td>0</td>\n",
       "      <td>150</td>\n",
       "      <td>0</td>\n",
       "      <td>2.3</td>\n",
       "      <td>0</td>\n",
       "      <td>0</td>\n",
       "      <td>1</td>\n",
       "      <td>1</td>\n",
       "    </tr>\n",
       "    <tr>\n",
       "      <th>1</th>\n",
       "      <td>37</td>\n",
       "      <td>1</td>\n",
       "      <td>2</td>\n",
       "      <td>130</td>\n",
       "      <td>250</td>\n",
       "      <td>0</td>\n",
       "      <td>1</td>\n",
       "      <td>187</td>\n",
       "      <td>0</td>\n",
       "      <td>3.5</td>\n",
       "      <td>0</td>\n",
       "      <td>0</td>\n",
       "      <td>2</td>\n",
       "      <td>1</td>\n",
       "    </tr>\n",
       "    <tr>\n",
       "      <th>2</th>\n",
       "      <td>41</td>\n",
       "      <td>0</td>\n",
       "      <td>1</td>\n",
       "      <td>130</td>\n",
       "      <td>204</td>\n",
       "      <td>0</td>\n",
       "      <td>0</td>\n",
       "      <td>172</td>\n",
       "      <td>0</td>\n",
       "      <td>1.4</td>\n",
       "      <td>2</td>\n",
       "      <td>0</td>\n",
       "      <td>2</td>\n",
       "      <td>1</td>\n",
       "    </tr>\n",
       "    <tr>\n",
       "      <th>3</th>\n",
       "      <td>56</td>\n",
       "      <td>1</td>\n",
       "      <td>1</td>\n",
       "      <td>120</td>\n",
       "      <td>236</td>\n",
       "      <td>0</td>\n",
       "      <td>1</td>\n",
       "      <td>178</td>\n",
       "      <td>0</td>\n",
       "      <td>0.8</td>\n",
       "      <td>2</td>\n",
       "      <td>0</td>\n",
       "      <td>2</td>\n",
       "      <td>1</td>\n",
       "    </tr>\n",
       "    <tr>\n",
       "      <th>4</th>\n",
       "      <td>57</td>\n",
       "      <td>0</td>\n",
       "      <td>0</td>\n",
       "      <td>120</td>\n",
       "      <td>354</td>\n",
       "      <td>0</td>\n",
       "      <td>1</td>\n",
       "      <td>163</td>\n",
       "      <td>1</td>\n",
       "      <td>0.6</td>\n",
       "      <td>2</td>\n",
       "      <td>0</td>\n",
       "      <td>2</td>\n",
       "      <td>1</td>\n",
       "    </tr>\n",
       "  </tbody>\n",
       "</table>\n",
       "</div>"
      ],
      "text/plain": [
       "   age  sex  cp  trestbps  chol  fbs  restecg  thalach  exang  oldpeak  slope  \\\n",
       "0   63    1   3       145   233    1        0      150      0      2.3      0   \n",
       "1   37    1   2       130   250    0        1      187      0      3.5      0   \n",
       "2   41    0   1       130   204    0        0      172      0      1.4      2   \n",
       "3   56    1   1       120   236    0        1      178      0      0.8      2   \n",
       "4   57    0   0       120   354    0        1      163      1      0.6      2   \n",
       "\n",
       "   ca  thal  target  \n",
       "0   0     1       1  \n",
       "1   0     2       1  \n",
       "2   0     2       1  \n",
       "3   0     2       1  \n",
       "4   0     2       1  "
      ]
     },
     "execution_count": 6,
     "metadata": {},
     "output_type": "execute_result"
    }
   ],
   "source": [
    "dataset.head(5)"
   ]
  },
  {
   "cell_type": "code",
   "execution_count": 7,
   "metadata": {},
   "outputs": [
    {
     "data": {
      "text/html": [
       "<div>\n",
       "<style scoped>\n",
       "    .dataframe tbody tr th:only-of-type {\n",
       "        vertical-align: middle;\n",
       "    }\n",
       "\n",
       "    .dataframe tbody tr th {\n",
       "        vertical-align: top;\n",
       "    }\n",
       "\n",
       "    .dataframe thead th {\n",
       "        text-align: right;\n",
       "    }\n",
       "</style>\n",
       "<table border=\"1\" class=\"dataframe\">\n",
       "  <thead>\n",
       "    <tr style=\"text-align: right;\">\n",
       "      <th></th>\n",
       "      <th>age</th>\n",
       "      <th>sex</th>\n",
       "      <th>cp</th>\n",
       "      <th>trestbps</th>\n",
       "      <th>chol</th>\n",
       "      <th>fbs</th>\n",
       "      <th>restecg</th>\n",
       "      <th>thalach</th>\n",
       "      <th>exang</th>\n",
       "      <th>oldpeak</th>\n",
       "      <th>slope</th>\n",
       "      <th>ca</th>\n",
       "      <th>thal</th>\n",
       "      <th>target</th>\n",
       "    </tr>\n",
       "  </thead>\n",
       "  <tbody>\n",
       "    <tr>\n",
       "      <th>count</th>\n",
       "      <td>303.000000</td>\n",
       "      <td>303.000000</td>\n",
       "      <td>303.000000</td>\n",
       "      <td>303.000000</td>\n",
       "      <td>303.000000</td>\n",
       "      <td>303.000000</td>\n",
       "      <td>303.000000</td>\n",
       "      <td>303.000000</td>\n",
       "      <td>303.000000</td>\n",
       "      <td>303.000000</td>\n",
       "      <td>303.000000</td>\n",
       "      <td>303.000000</td>\n",
       "      <td>303.000000</td>\n",
       "      <td>303.000000</td>\n",
       "    </tr>\n",
       "    <tr>\n",
       "      <th>mean</th>\n",
       "      <td>54.366337</td>\n",
       "      <td>0.683168</td>\n",
       "      <td>0.966997</td>\n",
       "      <td>131.623762</td>\n",
       "      <td>246.264026</td>\n",
       "      <td>0.148515</td>\n",
       "      <td>0.528053</td>\n",
       "      <td>149.646865</td>\n",
       "      <td>0.326733</td>\n",
       "      <td>1.039604</td>\n",
       "      <td>1.399340</td>\n",
       "      <td>0.729373</td>\n",
       "      <td>2.313531</td>\n",
       "      <td>0.544554</td>\n",
       "    </tr>\n",
       "    <tr>\n",
       "      <th>std</th>\n",
       "      <td>9.082101</td>\n",
       "      <td>0.466011</td>\n",
       "      <td>1.032052</td>\n",
       "      <td>17.538143</td>\n",
       "      <td>51.830751</td>\n",
       "      <td>0.356198</td>\n",
       "      <td>0.525860</td>\n",
       "      <td>22.905161</td>\n",
       "      <td>0.469794</td>\n",
       "      <td>1.161075</td>\n",
       "      <td>0.616226</td>\n",
       "      <td>1.022606</td>\n",
       "      <td>0.612277</td>\n",
       "      <td>0.498835</td>\n",
       "    </tr>\n",
       "    <tr>\n",
       "      <th>min</th>\n",
       "      <td>29.000000</td>\n",
       "      <td>0.000000</td>\n",
       "      <td>0.000000</td>\n",
       "      <td>94.000000</td>\n",
       "      <td>126.000000</td>\n",
       "      <td>0.000000</td>\n",
       "      <td>0.000000</td>\n",
       "      <td>71.000000</td>\n",
       "      <td>0.000000</td>\n",
       "      <td>0.000000</td>\n",
       "      <td>0.000000</td>\n",
       "      <td>0.000000</td>\n",
       "      <td>0.000000</td>\n",
       "      <td>0.000000</td>\n",
       "    </tr>\n",
       "    <tr>\n",
       "      <th>25%</th>\n",
       "      <td>47.500000</td>\n",
       "      <td>0.000000</td>\n",
       "      <td>0.000000</td>\n",
       "      <td>120.000000</td>\n",
       "      <td>211.000000</td>\n",
       "      <td>0.000000</td>\n",
       "      <td>0.000000</td>\n",
       "      <td>133.500000</td>\n",
       "      <td>0.000000</td>\n",
       "      <td>0.000000</td>\n",
       "      <td>1.000000</td>\n",
       "      <td>0.000000</td>\n",
       "      <td>2.000000</td>\n",
       "      <td>0.000000</td>\n",
       "    </tr>\n",
       "    <tr>\n",
       "      <th>50%</th>\n",
       "      <td>55.000000</td>\n",
       "      <td>1.000000</td>\n",
       "      <td>1.000000</td>\n",
       "      <td>130.000000</td>\n",
       "      <td>240.000000</td>\n",
       "      <td>0.000000</td>\n",
       "      <td>1.000000</td>\n",
       "      <td>153.000000</td>\n",
       "      <td>0.000000</td>\n",
       "      <td>0.800000</td>\n",
       "      <td>1.000000</td>\n",
       "      <td>0.000000</td>\n",
       "      <td>2.000000</td>\n",
       "      <td>1.000000</td>\n",
       "    </tr>\n",
       "    <tr>\n",
       "      <th>75%</th>\n",
       "      <td>61.000000</td>\n",
       "      <td>1.000000</td>\n",
       "      <td>2.000000</td>\n",
       "      <td>140.000000</td>\n",
       "      <td>274.500000</td>\n",
       "      <td>0.000000</td>\n",
       "      <td>1.000000</td>\n",
       "      <td>166.000000</td>\n",
       "      <td>1.000000</td>\n",
       "      <td>1.600000</td>\n",
       "      <td>2.000000</td>\n",
       "      <td>1.000000</td>\n",
       "      <td>3.000000</td>\n",
       "      <td>1.000000</td>\n",
       "    </tr>\n",
       "    <tr>\n",
       "      <th>max</th>\n",
       "      <td>77.000000</td>\n",
       "      <td>1.000000</td>\n",
       "      <td>3.000000</td>\n",
       "      <td>200.000000</td>\n",
       "      <td>564.000000</td>\n",
       "      <td>1.000000</td>\n",
       "      <td>2.000000</td>\n",
       "      <td>202.000000</td>\n",
       "      <td>1.000000</td>\n",
       "      <td>6.200000</td>\n",
       "      <td>2.000000</td>\n",
       "      <td>4.000000</td>\n",
       "      <td>3.000000</td>\n",
       "      <td>1.000000</td>\n",
       "    </tr>\n",
       "  </tbody>\n",
       "</table>\n",
       "</div>"
      ],
      "text/plain": [
       "              age         sex          cp    trestbps        chol         fbs  \\\n",
       "count  303.000000  303.000000  303.000000  303.000000  303.000000  303.000000   \n",
       "mean    54.366337    0.683168    0.966997  131.623762  246.264026    0.148515   \n",
       "std      9.082101    0.466011    1.032052   17.538143   51.830751    0.356198   \n",
       "min     29.000000    0.000000    0.000000   94.000000  126.000000    0.000000   \n",
       "25%     47.500000    0.000000    0.000000  120.000000  211.000000    0.000000   \n",
       "50%     55.000000    1.000000    1.000000  130.000000  240.000000    0.000000   \n",
       "75%     61.000000    1.000000    2.000000  140.000000  274.500000    0.000000   \n",
       "max     77.000000    1.000000    3.000000  200.000000  564.000000    1.000000   \n",
       "\n",
       "          restecg     thalach       exang     oldpeak       slope          ca  \\\n",
       "count  303.000000  303.000000  303.000000  303.000000  303.000000  303.000000   \n",
       "mean     0.528053  149.646865    0.326733    1.039604    1.399340    0.729373   \n",
       "std      0.525860   22.905161    0.469794    1.161075    0.616226    1.022606   \n",
       "min      0.000000   71.000000    0.000000    0.000000    0.000000    0.000000   \n",
       "25%      0.000000  133.500000    0.000000    0.000000    1.000000    0.000000   \n",
       "50%      1.000000  153.000000    0.000000    0.800000    1.000000    0.000000   \n",
       "75%      1.000000  166.000000    1.000000    1.600000    2.000000    1.000000   \n",
       "max      2.000000  202.000000    1.000000    6.200000    2.000000    4.000000   \n",
       "\n",
       "             thal      target  \n",
       "count  303.000000  303.000000  \n",
       "mean     2.313531    0.544554  \n",
       "std      0.612277    0.498835  \n",
       "min      0.000000    0.000000  \n",
       "25%      2.000000    0.000000  \n",
       "50%      2.000000    1.000000  \n",
       "75%      3.000000    1.000000  \n",
       "max      3.000000    1.000000  "
      ]
     },
     "execution_count": 7,
     "metadata": {},
     "output_type": "execute_result"
    }
   ],
   "source": [
    "dataset.sample()\n",
    "dataset.describe()"
   ]
  },
  {
   "cell_type": "code",
   "execution_count": 8,
   "metadata": {},
   "outputs": [
    {
     "name": "stdout",
     "output_type": "stream",
     "text": [
      "<class 'pandas.core.frame.DataFrame'>\n",
      "RangeIndex: 303 entries, 0 to 302\n",
      "Data columns (total 14 columns):\n",
      " #   Column    Non-Null Count  Dtype  \n",
      "---  ------    --------------  -----  \n",
      " 0   age       303 non-null    int64  \n",
      " 1   sex       303 non-null    int64  \n",
      " 2   cp        303 non-null    int64  \n",
      " 3   trestbps  303 non-null    int64  \n",
      " 4   chol      303 non-null    int64  \n",
      " 5   fbs       303 non-null    int64  \n",
      " 6   restecg   303 non-null    int64  \n",
      " 7   thalach   303 non-null    int64  \n",
      " 8   exang     303 non-null    int64  \n",
      " 9   oldpeak   303 non-null    float64\n",
      " 10  slope     303 non-null    int64  \n",
      " 11  ca        303 non-null    int64  \n",
      " 12  thal      303 non-null    int64  \n",
      " 13  target    303 non-null    int64  \n",
      "dtypes: float64(1), int64(13)\n",
      "memory usage: 33.3 KB\n"
     ]
    }
   ],
   "source": [
    "dataset.info()"
   ]
  },
  {
   "cell_type": "code",
   "execution_count": 9,
   "metadata": {},
   "outputs": [
    {
     "data": {
      "text/plain": [
       "count    303.000000\n",
       "mean       0.544554\n",
       "std        0.498835\n",
       "min        0.000000\n",
       "25%        0.000000\n",
       "50%        1.000000\n",
       "75%        1.000000\n",
       "max        1.000000\n",
       "Name: target, dtype: float64"
      ]
     },
     "execution_count": 9,
     "metadata": {},
     "output_type": "execute_result"
    }
   ],
   "source": [
    "dataset['target'].describe()"
   ]
  },
  {
   "cell_type": "code",
   "execution_count": 10,
   "metadata": {},
   "outputs": [
    {
     "data": {
      "text/plain": [
       "array([1, 0])"
      ]
     },
     "execution_count": 10,
     "metadata": {},
     "output_type": "execute_result"
    }
   ],
   "source": [
    "dataset['target'].unique()"
   ]
  },
  {
   "cell_type": "code",
   "execution_count": 11,
   "metadata": {},
   "outputs": [
    {
     "name": "stdout",
     "output_type": "stream",
     "text": [
      "target      1.000000\n",
      "exang       0.436757\n",
      "cp          0.433798\n",
      "oldpeak     0.430696\n",
      "thalach     0.421741\n",
      "ca          0.391724\n",
      "slope       0.345877\n",
      "thal        0.344029\n",
      "sex         0.280937\n",
      "age         0.225439\n",
      "trestbps    0.144931\n",
      "restecg     0.137230\n",
      "chol        0.085239\n",
      "fbs         0.028046\n",
      "Name: target, dtype: float64\n"
     ]
    }
   ],
   "source": [
    "print(dataset.corr()['target'].abs().sort_values(ascending=False))"
   ]
  },
  {
   "cell_type": "code",
   "execution_count": 12,
   "metadata": {},
   "outputs": [
    {
     "name": "stdout",
     "output_type": "stream",
     "text": [
      "1    165\n",
      "0    138\n",
      "Name: target, dtype: int64\n"
     ]
    },
    {
     "data": {
      "image/png": "[encoded data removed]",
      "text/plain": [
       "<Figure size 432x288 with 1 Axes>"
      ]
     },
     "metadata": {
      "needs_background": "light"
     },
     "output_type": "display_data"
    }
   ],
   "source": [
    "y = dataset['target']\n",
    "sns.countplot(y)\n",
    "\n",
    "x = dataset.target.value_counts()\n",
    "print(x)"
   ]
  },
  {
   "cell_type": "code",
   "execution_count": 13,
   "metadata": {
    "scrolled": true
   },
   "outputs": [
    {
     "name": "stdout",
     "output_type": "stream",
     "text": [
      "percentage of people with hear disease45.54\n"
     ]
    }
   ],
   "source": [
    "print(\"percentage of people with hear disease\"+str(round((x[0]*100)/303,2)))"
   ]
  },
  {
   "cell_type": "code",
   "execution_count": 14,
   "metadata": {},
   "outputs": [
    {
     "name": "stdout",
     "output_type": "stream",
     "text": [
      "percentage of people with no heart disease54.46\n"
     ]
    }
   ],
   "source": [
    "print(\"percentage of people with no heart disease\"+str(round(x[1]*100/303,2)))"
   ]
  },
  {
   "cell_type": "markdown",
   "metadata": {},
   "source": [
    "**Now we have diffrent feature we will analyse different features one at time\n",
    "\n",
    "**first feature :- sex"
   ]
  },
  {
   "cell_type": "code",
   "execution_count": 15,
   "metadata": {},
   "outputs": [
    {
     "data": {
      "text/plain": [
       "array([1, 0])"
      ]
     },
     "execution_count": 15,
     "metadata": {},
     "output_type": "execute_result"
    }
   ],
   "source": [
    "dataset['sex'].unique()"
   ]
  },
  {
   "cell_type": "code",
   "execution_count": 16,
   "metadata": {},
   "outputs": [
    {
     "data": {
      "text/plain": [
       "count    303.000000\n",
       "mean       0.683168\n",
       "std        0.466011\n",
       "min        0.000000\n",
       "25%        0.000000\n",
       "50%        1.000000\n",
       "75%        1.000000\n",
       "max        1.000000\n",
       "Name: sex, dtype: float64"
      ]
     },
     "execution_count": 16,
     "metadata": {},
     "output_type": "execute_result"
    }
   ],
   "source": [
    "dataset['sex'].describe()"
   ]
  },
  {
   "cell_type": "code",
   "execution_count": 17,
   "metadata": {
    "scrolled": true
   },
   "outputs": [
    {
     "data": {
      "text/plain": [
       "<matplotlib.axes._subplots.AxesSubplot at 0x1a250079d0>"
      ]
     },
     "execution_count": 17,
     "metadata": {},
     "output_type": "execute_result"
    },
    {
     "data": {
      "image/png": "[encoded data removed]",
      "text/plain": [
       "<Figure size 432x288 with 1 Axes>"
      ]
     },
     "metadata": {
      "needs_background": "light"
     },
     "output_type": "display_data"
    }
   ],
   "source": [
    "sns.barplot(dataset[\"sex\"],y)"
   ]
  },
  {
   "cell_type": "markdown",
   "metadata": {},
   "source": [
    "# here y = dataset[\"target\"] x=dataset[\"sex\"]"
   ]
  },
  {
   "cell_type": "markdown",
   "metadata": {},
   "source": [
    "**2) chest pain type feature  (second feature)"
   ]
  },
  {
   "cell_type": "code",
   "execution_count": 18,
   "metadata": {},
   "outputs": [
    {
     "data": {
      "text/plain": [
       "array([3, 2, 1, 0])"
      ]
     },
     "execution_count": 18,
     "metadata": {},
     "output_type": "execute_result"
    }
   ],
   "source": [
    "dataset[\"cp\"].unique()"
   ]
  },
  {
   "cell_type": "code",
   "execution_count": 19,
   "metadata": {},
   "outputs": [
    {
     "data": {
      "text/plain": [
       "<matplotlib.axes._subplots.AxesSubplot at 0x1a2586fed0>"
      ]
     },
     "execution_count": 19,
     "metadata": {},
     "output_type": "execute_result"
    },
    {
     "data": {
      "image/png": "[encoded data removed]",
      "text/plain": [
       "<Figure size 432x288 with 1 Axes>"
      ]
     },
     "metadata": {
      "needs_background": "light"
     },
     "output_type": "display_data"
    }
   ],
   "source": [
    "sns.barplot(dataset[\"cp\"],y)"
   ]
  },
  {
   "cell_type": "markdown",
   "metadata": {},
   "source": [
    "#  chest pain with value 0 tends to have lower chances "
   ]
  },
  {
   "cell_type": "markdown",
   "metadata": {},
   "source": [
    "**3) analysis of fbs feature (third feature)"
   ]
  },
  {
   "cell_type": "code",
   "execution_count": 20,
   "metadata": {},
   "outputs": [
    {
     "data": {
      "text/plain": [
       "count    303.000000\n",
       "mean       0.148515\n",
       "std        0.356198\n",
       "min        0.000000\n",
       "25%        0.000000\n",
       "50%        0.000000\n",
       "75%        0.000000\n",
       "max        1.000000\n",
       "Name: fbs, dtype: float64"
      ]
     },
     "execution_count": 20,
     "metadata": {},
     "output_type": "execute_result"
    }
   ],
   "source": [
    "dataset[\"fbs\"].describe()"
   ]
  },
  {
   "cell_type": "code",
   "execution_count": 21,
   "metadata": {},
   "outputs": [
    {
     "data": {
      "text/plain": [
       "array([1, 0])"
      ]
     },
     "execution_count": 21,
     "metadata": {},
     "output_type": "execute_result"
    }
   ],
   "source": [
    "dataset[\"fbs\"].unique()"
   ]
  },
  {
   "cell_type": "code",
   "execution_count": 22,
   "metadata": {},
   "outputs": [
    {
     "data": {
      "text/plain": [
       "<matplotlib.axes._subplots.AxesSubplot at 0x1a245b3b10>"
      ]
     },
     "execution_count": 22,
     "metadata": {},
     "output_type": "execute_result"
    },
    {
     "data": {
      "image/png": "[encoded data removed]",
      "text/plain": [
       "<Figure size 432x288 with 1 Axes>"
      ]
     },
     "metadata": {
      "needs_background": "light"
     },
     "output_type": "display_data"
    }
   ],
   "source": [
    "sns.barplot(dataset[\"fbs\"],y)"
   ]
  },
  {
   "cell_type": "markdown",
   "metadata": {},
   "source": [
    "# nothing derived from here"
   ]
  },
  {
   "cell_type": "markdown",
   "metadata": {},
   "source": [
    "**4) analysis of restecg feature (fourth feature)"
   ]
  },
  {
   "cell_type": "code",
   "execution_count": 23,
   "metadata": {},
   "outputs": [
    {
     "data": {
      "text/plain": [
       "count    303.000000\n",
       "mean       0.528053\n",
       "std        0.525860\n",
       "min        0.000000\n",
       "25%        0.000000\n",
       "50%        1.000000\n",
       "75%        1.000000\n",
       "max        2.000000\n",
       "Name: restecg, dtype: float64"
      ]
     },
     "execution_count": 23,
     "metadata": {},
     "output_type": "execute_result"
    }
   ],
   "source": [
    "dataset[\"restecg\"].describe()"
   ]
  },
  {
   "cell_type": "code",
   "execution_count": 24,
   "metadata": {},
   "outputs": [
    {
     "data": {
      "text/plain": [
       "array([0, 1, 2])"
      ]
     },
     "execution_count": 24,
     "metadata": {},
     "output_type": "execute_result"
    }
   ],
   "source": [
    "dataset[\"restecg\"].unique()"
   ]
  },
  {
   "cell_type": "code",
   "execution_count": 25,
   "metadata": {},
   "outputs": [
    {
     "data": {
      "text/plain": [
       "<matplotlib.axes._subplots.AxesSubplot at 0x1a24384a50>"
      ]
     },
     "execution_count": 25,
     "metadata": {},
     "output_type": "execute_result"
    },
    {
     "data": {
      "image/png": "[encoded data removed]",
      "text/plain": [
       "<Figure size 432x288 with 1 Axes>"
      ]
     },
     "metadata": {
      "needs_background": "light"
     },
     "output_type": "display_data"
    }
   ],
   "source": [
    "sns.barplot(dataset[\"restecg\"],y)"
   ]
  },
  {
   "cell_type": "markdown",
   "metadata": {},
   "source": [
    "# people with restecg :-2 at lower risk compare to restecg  0 and 1 value "
   ]
  },
  {
   "cell_type": "markdown",
   "metadata": {},
   "source": [
    "**5) analysis of exang feature (fifth feature)"
   ]
  },
  {
   "cell_type": "code",
   "execution_count": 26,
   "metadata": {},
   "outputs": [
    {
     "data": {
      "text/plain": [
       "count    303.000000\n",
       "mean       0.326733\n",
       "std        0.469794\n",
       "min        0.000000\n",
       "25%        0.000000\n",
       "50%        0.000000\n",
       "75%        1.000000\n",
       "max        1.000000\n",
       "Name: exang, dtype: float64"
      ]
     },
     "execution_count": 26,
     "metadata": {},
     "output_type": "execute_result"
    }
   ],
   "source": [
    "dataset[\"exang\"].describe()"
   ]
  },
  {
   "cell_type": "code",
   "execution_count": 27,
   "metadata": {},
   "outputs": [
    {
     "data": {
      "text/plain": [
       "array([0, 1])"
      ]
     },
     "execution_count": 27,
     "metadata": {},
     "output_type": "execute_result"
    }
   ],
   "source": [
    "dataset[\"exang\"].unique()"
   ]
  },
  {
   "cell_type": "code",
   "execution_count": 28,
   "metadata": {},
   "outputs": [
    {
     "data": {
      "text/plain": [
       "<matplotlib.axes._subplots.AxesSubplot at 0x1a25b15350>"
      ]
     },
     "execution_count": 28,
     "metadata": {},
     "output_type": "execute_result"
    },
    {
     "data": {
      "image/png": "[encoded data removed]",
      "text/plain": [
       "<Figure size 432x288 with 1 Axes>"
      ]
     },
     "metadata": {
      "needs_background": "light"
     },
     "output_type": "display_data"
    }
   ],
   "source": [
    "sns.barplot(dataset[\"exang\"],y)"
   ]
  },
  {
   "cell_type": "markdown",
   "metadata": {},
   "source": [
    "# people with exang value have significantly high chances of heart disease"
   ]
  },
  {
   "cell_type": "markdown",
   "metadata": {},
   "source": [
    "**6) analysis of slope feature (sixth feature)"
   ]
  },
  {
   "cell_type": "code",
   "execution_count": 29,
   "metadata": {},
   "outputs": [
    {
     "data": {
      "text/plain": [
       "count    303.000000\n",
       "mean       1.399340\n",
       "std        0.616226\n",
       "min        0.000000\n",
       "25%        1.000000\n",
       "50%        1.000000\n",
       "75%        2.000000\n",
       "max        2.000000\n",
       "Name: slope, dtype: float64"
      ]
     },
     "execution_count": 29,
     "metadata": {},
     "output_type": "execute_result"
    }
   ],
   "source": [
    "dataset[\"slope\"].describe()"
   ]
  },
  {
   "cell_type": "code",
   "execution_count": 30,
   "metadata": {},
   "outputs": [
    {
     "data": {
      "text/plain": [
       "array([0, 2, 1])"
      ]
     },
     "execution_count": 30,
     "metadata": {},
     "output_type": "execute_result"
    }
   ],
   "source": [
    "dataset[\"slope\"].unique()"
   ]
  },
  {
   "cell_type": "code",
   "execution_count": 31,
   "metadata": {},
   "outputs": [
    {
     "data": {
      "text/plain": [
       "<matplotlib.axes._subplots.AxesSubplot at 0x1a25bf9690>"
      ]
     },
     "execution_count": 31,
     "metadata": {},
     "output_type": "execute_result"
    },
    {
     "data": {
      "image/png": "[encoded data removed]",
      "text/plain": [
       "<Figure size 432x288 with 1 Axes>"
      ]
     },
     "metadata": {
      "needs_background": "light"
     },
     "output_type": "display_data"
    }
   ],
   "source": [
    "sns.barplot(dataset[\"slope\"],y)"
   ]
  },
  {
   "cell_type": "markdown",
   "metadata": {},
   "source": [
    "# people with slope value :-2 has significantly higher chance of heart disease "
   ]
  },
  {
   "cell_type": "markdown",
   "metadata": {},
   "source": [
    "**7) analyis of ca feature (seventh feature)"
   ]
  },
  {
   "cell_type": "code",
   "execution_count": 32,
   "metadata": {},
   "outputs": [
    {
     "data": {
      "text/plain": [
       "count    303.000000\n",
       "mean       0.729373\n",
       "std        1.022606\n",
       "min        0.000000\n",
       "25%        0.000000\n",
       "50%        0.000000\n",
       "75%        1.000000\n",
       "max        4.000000\n",
       "Name: ca, dtype: float64"
      ]
     },
     "execution_count": 32,
     "metadata": {},
     "output_type": "execute_result"
    }
   ],
   "source": [
    "dataset[\"ca\"].describe()"
   ]
  },
  {
   "cell_type": "code",
   "execution_count": 33,
   "metadata": {},
   "outputs": [
    {
     "data": {
      "text/plain": [
       "array([0, 2, 1, 3, 4])"
      ]
     },
     "execution_count": 33,
     "metadata": {},
     "output_type": "execute_result"
    }
   ],
   "source": [
    "dataset[\"ca\"].unique()"
   ]
  },
  {
   "cell_type": "code",
   "execution_count": 34,
   "metadata": {},
   "outputs": [
    {
     "data": {
      "text/plain": [
       "<matplotlib.axes._subplots.AxesSubplot at 0x1a25ce4710>"
      ]
     },
     "execution_count": 34,
     "metadata": {},
     "output_type": "execute_result"
    },
    {
     "data": {
      "image/png": "[encoded data removed]",
      "text/plain": [
       "<Figure size 432x288 with 1 Axes>"
      ]
     },
     "metadata": {
      "needs_background": "light"
     },
     "output_type": "display_data"
    }
   ],
   "source": [
    "sns.barplot(dataset[\"ca\"],y)"
   ]
  },
  {
   "cell_type": "markdown",
   "metadata": {},
   "source": [
    "# people with ca value of 0 and 4 have higher chance of heart disease than others"
   ]
  },
  {
   "cell_type": "markdown",
   "metadata": {},
   "source": [
    "**8) analysis thal featue eighth feature "
   ]
  },
  {
   "cell_type": "code",
   "execution_count": 35,
   "metadata": {},
   "outputs": [
    {
     "data": {
      "text/plain": [
       "count    303.000000\n",
       "mean       2.313531\n",
       "std        0.612277\n",
       "min        0.000000\n",
       "25%        2.000000\n",
       "50%        2.000000\n",
       "75%        3.000000\n",
       "max        3.000000\n",
       "Name: thal, dtype: float64"
      ]
     },
     "execution_count": 35,
     "metadata": {},
     "output_type": "execute_result"
    }
   ],
   "source": [
    "dataset[\"thal\"].describe()"
   ]
  },
  {
   "cell_type": "code",
   "execution_count": 36,
   "metadata": {},
   "outputs": [
    {
     "data": {
      "text/plain": [
       "array([1, 2, 3, 0])"
      ]
     },
     "execution_count": 36,
     "metadata": {},
     "output_type": "execute_result"
    }
   ],
   "source": [
    "dataset[\"thal\"].unique()"
   ]
  },
  {
   "cell_type": "code",
   "execution_count": 37,
   "metadata": {},
   "outputs": [
    {
     "data": {
      "text/plain": [
       "<matplotlib.axes._subplots.AxesSubplot at 0x1a25cf4990>"
      ]
     },
     "execution_count": 37,
     "metadata": {},
     "output_type": "execute_result"
    },
    {
     "data": {
      "image/png": "[encoded data removed]",
      "text/plain": [
       "<Figure size 432x288 with 1 Axes>"
      ]
     },
     "metadata": {
      "needs_background": "light"
     },
     "output_type": "display_data"
    }
   ],
   "source": [
    "sns.barplot(dataset[\"thal\"],y)"
   ]
  },
  {
   "cell_type": "markdown",
   "metadata": {},
   "source": [
    "# people with thal value of 2 have higher chance of heart disease"
   ]
  },
  {
   "cell_type": "code",
   "execution_count": 38,
   "metadata": {},
   "outputs": [
    {
     "data": {
      "text/plain": [
       "<matplotlib.axes._subplots.AxesSubplot at 0x1a25dc4210>"
      ]
     },
     "execution_count": 38,
     "metadata": {},
     "output_type": "execute_result"
    },
    {
     "data": {
      "image/png": "[encoded data removed]",
      "text/plain": [
       "<Figure size 432x288 with 1 Axes>"
      ]
     },
     "metadata": {
      "needs_background": "light"
     },
     "output_type": "display_data"
    }
   ],
   "source": [
    "sns.distplot(dataset[\"thal\"])"
   ]
  },
  {
   "cell_type": "markdown",
   "metadata": {},
   "source": [
    "# split train set and test set "
   ]
  },
  {
   "cell_type": "code",
   "execution_count": 39,
   "metadata": {},
   "outputs": [],
   "source": [
    "from sklearn.model_selection import train_test_split\n",
    "\n",
    "predictors = dataset.drop(\"target\",axis=1)\n",
    "target = dataset[\"target\"]\n",
    "\n",
    "X_train,X_test,Y_train,Y_test= train_test_split(predictors,target,test_size=0.20,random_state=0)"
   ]
  },
  {
   "cell_type": "code",
   "execution_count": 40,
   "metadata": {},
   "outputs": [
    {
     "data": {
      "text/plain": [
       "(242, 13)"
      ]
     },
     "execution_count": 40,
     "metadata": {},
     "output_type": "execute_result"
    }
   ],
   "source": [
    "X_train.shape"
   ]
  },
  {
   "cell_type": "code",
   "execution_count": 41,
   "metadata": {},
   "outputs": [
    {
     "data": {
      "text/plain": [
       "(61, 13)"
      ]
     },
     "execution_count": 41,
     "metadata": {},
     "output_type": "execute_result"
    }
   ],
   "source": [
    "X_test.shape"
   ]
  },
  {
   "cell_type": "code",
   "execution_count": 42,
   "metadata": {},
   "outputs": [
    {
     "data": {
      "text/plain": [
       "(242,)"
      ]
     },
     "execution_count": 42,
     "metadata": {},
     "output_type": "execute_result"
    }
   ],
   "source": [
    "Y_train.shape"
   ]
  },
  {
   "cell_type": "code",
   "execution_count": 43,
   "metadata": {},
   "outputs": [
    {
     "data": {
      "text/plain": [
       "(61,)"
      ]
     },
     "execution_count": 43,
     "metadata": {},
     "output_type": "execute_result"
    }
   ],
   "source": [
    "Y_test.shape"
   ]
  },
  {
   "cell_type": "markdown",
   "metadata": {},
   "source": [
    "**model fitting**"
   ]
  },
  {
   "cell_type": "code",
   "execution_count": 44,
   "metadata": {},
   "outputs": [],
   "source": [
    "from sklearn.metrics import accuracy_score"
   ]
  },
  {
   "cell_type": "markdown",
   "metadata": {},
   "source": [
    "# 1) logistic regression "
   ]
  },
  {
   "cell_type": "code",
   "execution_count": 45,
   "metadata": {
    "scrolled": true
   },
   "outputs": [],
   "source": [
    "from sklearn.linear_model import LogisticRegression\n",
    "lr = LogisticRegression(max_iter=1000)\n",
    "lr.fit(X_train,Y_train)\n",
    "Y_pred_lr = lr.predict(X_test)"
   ]
  },
  {
   "cell_type": "code",
   "execution_count": 46,
   "metadata": {},
   "outputs": [
    {
     "data": {
      "text/plain": [
       "(61,)"
      ]
     },
     "execution_count": 46,
     "metadata": {},
     "output_type": "execute_result"
    }
   ],
   "source": [
    "Y_pred_lr.shape"
   ]
  },
  {
   "cell_type": "code",
   "execution_count": 47,
   "metadata": {},
   "outputs": [
    {
     "name": "stdout",
     "output_type": "stream",
     "text": [
      "The accuracy score :85.25%\n"
     ]
    }
   ],
   "source": [
    "score_lr = round(accuracy_score(Y_pred_lr,Y_test)*100,2)\n",
    "print(\"The accuracy score :\"+str(score_lr)+\"%\")"
   ]
  },
  {
   "cell_type": "markdown",
   "metadata": {},
   "source": [
    "# 2)  Naive Bayes "
   ]
  },
  {
   "cell_type": "code",
   "execution_count": 48,
   "metadata": {},
   "outputs": [],
   "source": [
    "from sklearn.naive_bayes import GaussianNB\n",
    "nb = GaussianNB()\n",
    "nb.fit(X_train,Y_train)\n",
    "Y_pred_nb = nb.predict(X_test)"
   ]
  },
  {
   "cell_type": "code",
   "execution_count": 49,
   "metadata": {},
   "outputs": [
    {
     "data": {
      "text/plain": [
       "(61,)"
      ]
     },
     "execution_count": 49,
     "metadata": {},
     "output_type": "execute_result"
    }
   ],
   "source": [
    "Y_pred_nb.shape"
   ]
  },
  {
   "cell_type": "code",
   "execution_count": 50,
   "metadata": {
    "scrolled": false
   },
   "outputs": [
    {
     "name": "stdout",
     "output_type": "stream",
     "text": [
      "The accuracy score :85.25%\n"
     ]
    }
   ],
   "source": [
    "score_nb = round(accuracy_score(Y_pred_nb,Y_test)*100,2)\n",
    "print(\"The accuracy score :\"+str(score_nb)+\"%\")"
   ]
  },
  {
   "cell_type": "markdown",
   "metadata": {},
   "source": [
    "# 3) SVM"
   ]
  },
  {
   "cell_type": "code",
   "execution_count": 51,
   "metadata": {},
   "outputs": [],
   "source": [
    "from sklearn import svm \n",
    "sv = svm.SVC(kernel='linear')\n",
    "sv.fit(X_train,Y_train)\n",
    "Y_pred_svm = sv.predict(X_test)"
   ]
  },
  {
   "cell_type": "code",
   "execution_count": 52,
   "metadata": {},
   "outputs": [
    {
     "data": {
      "text/plain": [
       "(61,)"
      ]
     },
     "execution_count": 52,
     "metadata": {},
     "output_type": "execute_result"
    }
   ],
   "source": [
    "Y_pred_svm.shape"
   ]
  },
  {
   "cell_type": "code",
   "execution_count": 53,
   "metadata": {},
   "outputs": [
    {
     "name": "stdout",
     "output_type": "stream",
     "text": [
      "the support vector machine accuracy score81.97%\n"
     ]
    }
   ],
   "source": [
    "percentage_svm = round(accuracy_score(Y_pred_svm,Y_test)*100,2)\n",
    "print(\"the support vector machine accuracy score\"+str(percentage_svm)+\"%\")"
   ]
  },
  {
   "cell_type": "markdown",
   "metadata": {},
   "source": [
    "# 4) k-nearest neighbours"
   ]
  },
  {
   "cell_type": "code",
   "execution_count": 54,
   "metadata": {},
   "outputs": [],
   "source": [
    "from sklearn.neighbors import KNeighborsClassifier\n",
    "\n",
    "knn = KNeighborsClassifier(n_neighbors=7)\n",
    "knn.fit(X_train,Y_train)\n",
    "Y_knn = knn.predict(X_test)"
   ]
  },
  {
   "cell_type": "code",
   "execution_count": 55,
   "metadata": {},
   "outputs": [
    {
     "name": "stdout",
     "output_type": "stream",
     "text": [
      "The percentage of KNN67.21%\n"
     ]
    }
   ],
   "source": [
    "predict_knn = round(accuracy_score(Y_knn,Y_test)*100,2)\n",
    "print(\"The percentage of KNN\"+str(predict_knn)+\"%\")"
   ]
  },
  {
   "cell_type": "markdown",
   "metadata": {},
   "source": [
    "# 5) Decision Tree"
   ]
  },
  {
   "cell_type": "code",
   "execution_count": 56,
   "metadata": {},
   "outputs": [],
   "source": [
    "from sklearn.tree import DecisionTreeClassifier\n",
    "\n",
    "max_accuracy = 0\n",
    "\n",
    "for x in range(200):\n",
    "    dt = DecisionTreeClassifier(random_state=x)\n",
    "    dt.fit(X_train,Y_train)\n",
    "    Y_pred_decision = dt.predict(X_test)\n",
    "    current_accuracy = round(accuracy_score(Y_pred_decision,Y_test)*100,2)\n",
    "    if(current_accuracy > max_accuracy):\n",
    "        max_accuracy= current_accuracy\n",
    "        best_x = x"
   ]
  },
  {
   "cell_type": "code",
   "execution_count": 57,
   "metadata": {},
   "outputs": [
    {
     "name": "stdout",
     "output_type": "stream",
     "text": [
      "81.97\n"
     ]
    }
   ],
   "source": [
    "print(max_accuracy)"
   ]
  },
  {
   "cell_type": "code",
   "execution_count": 58,
   "metadata": {},
   "outputs": [],
   "source": [
    "t = DecisionTreeClassifier(random_state=best_x)\n",
    "dt.fit(X_train,Y_train)\n",
    "Y_pred_dt = dt.predict(X_test)"
   ]
  },
  {
   "cell_type": "code",
   "execution_count": 59,
   "metadata": {},
   "outputs": [
    {
     "name": "stdout",
     "output_type": "stream",
     "text": [
      "(61,)\n",
      "The accuracy score achieved using Decision Tree is: 78.69 %\n"
     ]
    }
   ],
   "source": [
    "print(Y_pred_dt.shape)\n",
    "\n",
    "score_dt = round(accuracy_score(Y_pred_dt,Y_test)*100,2)\n",
    "\n",
    "print(\"The accuracy score achieved using Decision Tree is: \"+str(score_dt)+\" %\")"
   ]
  },
  {
   "cell_type": "markdown",
   "metadata": {},
   "source": [
    "# 6)  random forest "
   ]
  },
  {
   "cell_type": "code",
   "execution_count": 60,
   "metadata": {},
   "outputs": [],
   "source": [
    "from sklearn.ensemble import RandomForestClassifier\n",
    "\n",
    "max_accuracy = 0\n",
    "\n",
    "\n",
    "for x in range(200):\n",
    "    rf = RandomForestClassifier(random_state=x)\n",
    "    rf.fit(X_train,Y_train)\n",
    "    Y_pred_random_forest = rf.predict(X_test)\n",
    "    Y_pred_random_percentage = round(accuracy_score(Y_pred_random_forest,Y_test))\n",
    "    if(Y_pred_random_percentage > max_accuracy):\n",
    "        max_accuracy = Y_pred_random_percentage\n",
    "        best_x = x\n",
    "\n",
    "rc = RandomForestClassifier(random_state=best_x)\n",
    "rc.fit(X_train,Y_train)\n",
    "Y_pred_rc= rc.predict(X_test)\n",
    "  "
   ]
  },
  {
   "cell_type": "code",
   "execution_count": 61,
   "metadata": {},
   "outputs": [
    {
     "name": "stdout",
     "output_type": "stream",
     "text": [
      " The random forest accracy score : 88.52%\n"
     ]
    }
   ],
   "source": [
    "accuracy_score = round(accuracy_score(Y_test,Y_pred_rc)*100,2)\n",
    "print(\" The random forest accracy score : \"+str(accuracy_score)+\"%\")"
   ]
  },
  {
   "cell_type": "markdown",
   "metadata": {},
   "source": [
    "# 7) XGBoost"
   ]
  },
  {
   "cell_type": "code",
   "execution_count": 63,
   "metadata": {
    "scrolled": true
   },
   "outputs": [
    {
     "ename": "TypeError",
     "evalue": "'numpy.float64' object is not callable",
     "output_type": "error",
     "traceback": [
      "\u001b[0;31m---------------------------------------------------------------------------\u001b[0m",
      "\u001b[0;31mTypeError\u001b[0m                                 Traceback (most recent call last)",
      "\u001b[0;32m<ipython-input-63-b4fc1c3e04cc>\u001b[0m in \u001b[0;36m<module>\u001b[0;34m\u001b[0m\n\u001b[1;32m      5\u001b[0m \u001b[0mY_pred_xgboost\u001b[0m \u001b[0;34m=\u001b[0m \u001b[0mxgb_model\u001b[0m\u001b[0;34m.\u001b[0m\u001b[0mpredict\u001b[0m\u001b[0;34m(\u001b[0m\u001b[0mX_test\u001b[0m\u001b[0;34m)\u001b[0m\u001b[0;34m\u001b[0m\u001b[0;34m\u001b[0m\u001b[0m\n\u001b[1;32m      6\u001b[0m \u001b[0;34m\u001b[0m\u001b[0m\n\u001b[0;32m----> 7\u001b[0;31m \u001b[0maccuracy_test\u001b[0m \u001b[0;34m=\u001b[0m \u001b[0mround\u001b[0m\u001b[0;34m(\u001b[0m\u001b[0maccuracy_score\u001b[0m\u001b[0;34m(\u001b[0m\u001b[0mY_test\u001b[0m\u001b[0;34m,\u001b[0m\u001b[0mY_pred_xgboost\u001b[0m\u001b[0;34m)\u001b[0m\u001b[0;34m*\u001b[0m\u001b[0;36m100\u001b[0m\u001b[0;34m,\u001b[0m\u001b[0;36m2\u001b[0m\u001b[0;34m)\u001b[0m\u001b[0;34m\u001b[0m\u001b[0;34m\u001b[0m\u001b[0m\n\u001b[0m\u001b[1;32m      8\u001b[0m \u001b[0mprint\u001b[0m\u001b[0;34m(\u001b[0m\u001b[0;34m\"The XGBoost accuracy score\"\u001b[0m\u001b[0;34m+\u001b[0m\u001b[0mstr\u001b[0m\u001b[0;34m(\u001b[0m\u001b[0maccuracy_test\u001b[0m\u001b[0;34m)\u001b[0m\u001b[0;34m+\u001b[0m\u001b[0;34m\"%\"\u001b[0m\u001b[0;34m)\u001b[0m\u001b[0;34m\u001b[0m\u001b[0;34m\u001b[0m\u001b[0m\n",
      "\u001b[0;31mTypeError\u001b[0m: 'numpy.float64' object is not callable"
     ]
    }
   ],
   "source": [
    "import xgboost as xgb\n",
    "\n",
    "xgb_model = xgb.XGBClassifier(objective=\"binary:logistic\",random_state=42)\n",
    "xgb_model.fit(X_train,Y_train)\n",
    "Y_pred_xgboost = xgb_model.predict(X_test)\n",
    "\n",
    "accuracy_test = round(accuracy_score(Y_test,Y_pred_xgboost)*100,2)\n",
    "print(\"The XGBoost accuracy score\"+str(accuracy_test)+\"%\")\n"
   ]
  },
  {
   "cell_type": "markdown",
   "metadata": {},
   "source": [
    "# Neural Network"
   ]
  },
  {
   "cell_type": "code",
   "execution_count": 64,
   "metadata": {},
   "outputs": [
    {
     "name": "stderr",
     "output_type": "stream",
     "text": [
      "Using TensorFlow backend.\n",
      "/Users/tejaspatel/opt/anaconda3/lib/python3.7/site-packages/tensorflow/python/framework/dtypes.py:516: FutureWarning: Passing (type, 1) or '1type' as a synonym of type is deprecated; in a future version of numpy, it will be understood as (type, (1,)) / '(1,)type'.\n",
      "  _np_qint8 = np.dtype([(\"qint8\", np.int8, 1)])\n",
      "/Users/tejaspatel/opt/anaconda3/lib/python3.7/site-packages/tensorflow/python/framework/dtypes.py:517: FutureWarning: Passing (type, 1) or '1type' as a synonym of type is deprecated; in a future version of numpy, it will be understood as (type, (1,)) / '(1,)type'.\n",
      "  _np_quint8 = np.dtype([(\"quint8\", np.uint8, 1)])\n",
      "/Users/tejaspatel/opt/anaconda3/lib/python3.7/site-packages/tensorflow/python/framework/dtypes.py:518: FutureWarning: Passing (type, 1) or '1type' as a synonym of type is deprecated; in a future version of numpy, it will be understood as (type, (1,)) / '(1,)type'.\n",
      "  _np_qint16 = np.dtype([(\"qint16\", np.int16, 1)])\n",
      "/Users/tejaspatel/opt/anaconda3/lib/python3.7/site-packages/tensorflow/python/framework/dtypes.py:519: FutureWarning: Passing (type, 1) or '1type' as a synonym of type is deprecated; in a future version of numpy, it will be understood as (type, (1,)) / '(1,)type'.\n",
      "  _np_quint16 = np.dtype([(\"quint16\", np.uint16, 1)])\n",
      "/Users/tejaspatel/opt/anaconda3/lib/python3.7/site-packages/tensorflow/python/framework/dtypes.py:520: FutureWarning: Passing (type, 1) or '1type' as a synonym of type is deprecated; in a future version of numpy, it will be understood as (type, (1,)) / '(1,)type'.\n",
      "  _np_qint32 = np.dtype([(\"qint32\", np.int32, 1)])\n",
      "/Users/tejaspatel/opt/anaconda3/lib/python3.7/site-packages/tensorflow/python/framework/dtypes.py:525: FutureWarning: Passing (type, 1) or '1type' as a synonym of type is deprecated; in a future version of numpy, it will be understood as (type, (1,)) / '(1,)type'.\n",
      "  np_resource = np.dtype([(\"resource\", np.ubyte, 1)])\n",
      "/Users/tejaspatel/opt/anaconda3/lib/python3.7/site-packages/tensorboard/compat/tensorflow_stub/dtypes.py:541: FutureWarning: Passing (type, 1) or '1type' as a synonym of type is deprecated; in a future version of numpy, it will be understood as (type, (1,)) / '(1,)type'.\n",
      "  _np_qint8 = np.dtype([(\"qint8\", np.int8, 1)])\n",
      "/Users/tejaspatel/opt/anaconda3/lib/python3.7/site-packages/tensorboard/compat/tensorflow_stub/dtypes.py:542: FutureWarning: Passing (type, 1) or '1type' as a synonym of type is deprecated; in a future version of numpy, it will be understood as (type, (1,)) / '(1,)type'.\n",
      "  _np_quint8 = np.dtype([(\"quint8\", np.uint8, 1)])\n",
      "/Users/tejaspatel/opt/anaconda3/lib/python3.7/site-packages/tensorboard/compat/tensorflow_stub/dtypes.py:543: FutureWarning: Passing (type, 1) or '1type' as a synonym of type is deprecated; in a future version of numpy, it will be understood as (type, (1,)) / '(1,)type'.\n",
      "  _np_qint16 = np.dtype([(\"qint16\", np.int16, 1)])\n",
      "/Users/tejaspatel/opt/anaconda3/lib/python3.7/site-packages/tensorboard/compat/tensorflow_stub/dtypes.py:544: FutureWarning: Passing (type, 1) or '1type' as a synonym of type is deprecated; in a future version of numpy, it will be understood as (type, (1,)) / '(1,)type'.\n",
      "  _np_quint16 = np.dtype([(\"quint16\", np.uint16, 1)])\n",
      "/Users/tejaspatel/opt/anaconda3/lib/python3.7/site-packages/tensorboard/compat/tensorflow_stub/dtypes.py:545: FutureWarning: Passing (type, 1) or '1type' as a synonym of type is deprecated; in a future version of numpy, it will be understood as (type, (1,)) / '(1,)type'.\n",
      "  _np_qint32 = np.dtype([(\"qint32\", np.int32, 1)])\n",
      "/Users/tejaspatel/opt/anaconda3/lib/python3.7/site-packages/tensorboard/compat/tensorflow_stub/dtypes.py:550: FutureWarning: Passing (type, 1) or '1type' as a synonym of type is deprecated; in a future version of numpy, it will be understood as (type, (1,)) / '(1,)type'.\n",
      "  np_resource = np.dtype([(\"resource\", np.ubyte, 1)])\n"
     ]
    }
   ],
   "source": [
    "from keras.models import Sequential\n",
    "from keras.layers import Dense"
   ]
  },
  {
   "cell_type": "code",
   "execution_count": 65,
   "metadata": {},
   "outputs": [
    {
     "name": "stdout",
     "output_type": "stream",
     "text": [
      "WARNING:tensorflow:From /Users/tejaspatel/opt/anaconda3/lib/python3.7/site-packages/tensorflow/python/ops/nn_impl.py:180: add_dispatch_support.<locals>.wrapper (from tensorflow.python.ops.array_ops) is deprecated and will be removed in a future version.\n",
      "Instructions for updating:\n",
      "Use tf.where in 2.0, which has the same broadcast rule as np.where\n"
     ]
    }
   ],
   "source": [
    "model = Sequential()\n",
    "model.add(Dense(11,activation='relu',input_dim=13))\n",
    "model.add(Dense(1,activation='sigmoid'))\n",
    "\n",
    "model.compile(loss='binary_crossentropy',optimizer='adam',metrics=['accuracy'])"
   ]
  },
  {
   "cell_type": "code",
   "execution_count": 66,
   "metadata": {},
   "outputs": [
    {
     "name": "stdout",
     "output_type": "stream",
     "text": [
      "WARNING:tensorflow:From /Users/tejaspatel/opt/anaconda3/lib/python3.7/site-packages/keras/backend/tensorflow_backend.py:422: The name tf.global_variables is deprecated. Please use tf.compat.v1.global_variables instead.\n",
      "\n",
      "Epoch 1/300\n",
      "242/242 [==============================] - 0s 554us/step - loss: 115.1149 - accuracy: 0.4587\n",
      "Epoch 2/300\n",
      "242/242 [==============================] - 0s 43us/step - loss: 106.2615 - accuracy: 0.4587\n",
      "Epoch 3/300\n",
      "242/242 [==============================] - 0s 42us/step - loss: 98.0057 - accuracy: 0.4587\n",
      "Epoch 4/300\n",
      "242/242 [==============================] - 0s 38us/step - loss: 90.0489 - accuracy: 0.4587\n",
      "Epoch 5/300\n",
      "242/242 [==============================] - 0s 45us/step - loss: 82.4224 - accuracy: 0.4587\n",
      "Epoch 6/300\n",
      "242/242 [==============================] - 0s 42us/step - loss: 74.8591 - accuracy: 0.4587\n",
      "Epoch 7/300\n",
      "242/242 [==============================] - 0s 38us/step - loss: 67.2195 - accuracy: 0.4587\n",
      "Epoch 8/300\n",
      "242/242 [==============================] - 0s 41us/step - loss: 59.3740 - accuracy: 0.4587\n",
      "Epoch 9/300\n",
      "242/242 [==============================] - 0s 44us/step - loss: 51.7598 - accuracy: 0.4587\n",
      "Epoch 10/300\n",
      "242/242 [==============================] - 0s 39us/step - loss: 44.5050 - accuracy: 0.4587\n",
      "Epoch 11/300\n",
      "242/242 [==============================] - 0s 39us/step - loss: 37.2671 - accuracy: 0.4587\n",
      "Epoch 12/300\n",
      "242/242 [==============================] - 0s 44us/step - loss: 30.5181 - accuracy: 0.4587\n",
      "Epoch 13/300\n",
      "242/242 [==============================] - 0s 38us/step - loss: 23.8932 - accuracy: 0.4669\n",
      "Epoch 14/300\n",
      "242/242 [==============================] - 0s 41us/step - loss: 17.9242 - accuracy: 0.4876\n",
      "Epoch 15/300\n",
      "242/242 [==============================] - 0s 42us/step - loss: 12.5788 - accuracy: 0.5331\n",
      "Epoch 16/300\n",
      "242/242 [==============================] - 0s 35us/step - loss: 8.7249 - accuracy: 0.5826\n",
      "Epoch 17/300\n",
      "242/242 [==============================] - 0s 45us/step - loss: 6.2631 - accuracy: 0.6364\n",
      "Epoch 18/300\n",
      "242/242 [==============================] - 0s 47us/step - loss: 5.3324 - accuracy: 0.6198\n",
      "Epoch 19/300\n",
      "242/242 [==============================] - 0s 46us/step - loss: 5.0065 - accuracy: 0.6405\n",
      "Epoch 20/300\n",
      "242/242 [==============================] - 0s 38us/step - loss: 4.9429 - accuracy: 0.6033\n",
      "Epoch 21/300\n",
      "242/242 [==============================] - 0s 40us/step - loss: 4.9328 - accuracy: 0.6074\n",
      "Epoch 22/300\n",
      "242/242 [==============================] - 0s 39us/step - loss: 4.8981 - accuracy: 0.6116\n",
      "Epoch 23/300\n",
      "242/242 [==============================] - 0s 36us/step - loss: 4.8522 - accuracy: 0.6074\n",
      "Epoch 24/300\n",
      "242/242 [==============================] - 0s 40us/step - loss: 4.8187 - accuracy: 0.6116\n",
      "Epoch 25/300\n",
      "242/242 [==============================] - 0s 38us/step - loss: 4.7810 - accuracy: 0.6157\n",
      "Epoch 26/300\n",
      "242/242 [==============================] - 0s 36us/step - loss: 4.7498 - accuracy: 0.6198\n",
      "Epoch 27/300\n",
      "242/242 [==============================] - 0s 50us/step - loss: 4.7154 - accuracy: 0.6198\n",
      "Epoch 28/300\n",
      "242/242 [==============================] - 0s 36us/step - loss: 4.6813 - accuracy: 0.6198\n",
      "Epoch 29/300\n",
      "242/242 [==============================] - 0s 37us/step - loss: 4.6473 - accuracy: 0.6240\n",
      "Epoch 30/300\n",
      "242/242 [==============================] - 0s 39us/step - loss: 4.6189 - accuracy: 0.6240\n",
      "Epoch 31/300\n",
      "242/242 [==============================] - 0s 35us/step - loss: 4.5822 - accuracy: 0.6157\n",
      "Epoch 32/300\n",
      "242/242 [==============================] - 0s 38us/step - loss: 4.5502 - accuracy: 0.6240\n",
      "Epoch 33/300\n",
      "242/242 [==============================] - 0s 39us/step - loss: 4.5243 - accuracy: 0.6240\n",
      "Epoch 34/300\n",
      "242/242 [==============================] - 0s 36us/step - loss: 4.4823 - accuracy: 0.6281\n",
      "Epoch 35/300\n",
      "242/242 [==============================] - 0s 36us/step - loss: 4.4443 - accuracy: 0.6240\n",
      "Epoch 36/300\n",
      "242/242 [==============================] - 0s 41us/step - loss: 4.4147 - accuracy: 0.6240\n",
      "Epoch 37/300\n",
      "242/242 [==============================] - 0s 34us/step - loss: 4.3803 - accuracy: 0.6240\n",
      "Epoch 38/300\n",
      "242/242 [==============================] - 0s 36us/step - loss: 4.3434 - accuracy: 0.6281\n",
      "Epoch 39/300\n",
      "242/242 [==============================] - 0s 39us/step - loss: 4.3116 - accuracy: 0.6281\n",
      "Epoch 40/300\n",
      "242/242 [==============================] - 0s 39us/step - loss: 4.2764 - accuracy: 0.6198\n",
      "Epoch 41/300\n",
      "242/242 [==============================] - 0s 39us/step - loss: 4.2422 - accuracy: 0.6240\n",
      "Epoch 42/300\n",
      "242/242 [==============================] - 0s 36us/step - loss: 4.1994 - accuracy: 0.6240\n",
      "Epoch 43/300\n",
      "242/242 [==============================] - 0s 34us/step - loss: 4.1649 - accuracy: 0.6322\n",
      "Epoch 44/300\n",
      "242/242 [==============================] - 0s 39us/step - loss: 4.1303 - accuracy: 0.6322\n",
      "Epoch 45/300\n",
      "242/242 [==============================] - 0s 37us/step - loss: 4.0938 - accuracy: 0.6322\n",
      "Epoch 46/300\n",
      "242/242 [==============================] - 0s 39us/step - loss: 4.0506 - accuracy: 0.6405\n",
      "Epoch 47/300\n",
      "242/242 [==============================] - 0s 36us/step - loss: 4.0145 - accuracy: 0.6405\n",
      "Epoch 48/300\n",
      "242/242 [==============================] - 0s 41us/step - loss: 3.9715 - accuracy: 0.6405\n",
      "Epoch 49/300\n",
      "242/242 [==============================] - 0s 35us/step - loss: 3.9290 - accuracy: 0.6364\n",
      "Epoch 50/300\n",
      "242/242 [==============================] - 0s 32us/step - loss: 3.8822 - accuracy: 0.6405\n",
      "Epoch 51/300\n",
      "242/242 [==============================] - 0s 40us/step - loss: 3.8422 - accuracy: 0.6488\n",
      "Epoch 52/300\n",
      "242/242 [==============================] - 0s 39us/step - loss: 3.8081 - accuracy: 0.6446\n",
      "Epoch 53/300\n",
      "242/242 [==============================] - 0s 39us/step - loss: 3.7514 - accuracy: 0.6405\n",
      "Epoch 54/300\n",
      "242/242 [==============================] - 0s 38us/step - loss: 3.7084 - accuracy: 0.6529\n",
      "Epoch 55/300\n",
      "242/242 [==============================] - 0s 42us/step - loss: 3.6570 - accuracy: 0.6488\n",
      "Epoch 56/300\n",
      "242/242 [==============================] - 0s 30us/step - loss: 3.6232 - accuracy: 0.6488\n",
      "Epoch 57/300\n",
      "242/242 [==============================] - 0s 41us/step - loss: 3.5728 - accuracy: 0.6488\n",
      "Epoch 58/300\n",
      "242/242 [==============================] - 0s 38us/step - loss: 3.5233 - accuracy: 0.6446\n",
      "Epoch 59/300\n",
      "242/242 [==============================] - 0s 32us/step - loss: 3.4769 - accuracy: 0.6488\n",
      "Epoch 60/300\n",
      "242/242 [==============================] - 0s 39us/step - loss: 3.4374 - accuracy: 0.6488\n",
      "Epoch 61/300\n",
      "242/242 [==============================] - 0s 37us/step - loss: 3.3839 - accuracy: 0.6529\n",
      "Epoch 62/300\n",
      "242/242 [==============================] - 0s 35us/step - loss: 3.3391 - accuracy: 0.6529\n",
      "Epoch 63/300\n",
      "242/242 [==============================] - 0s 40us/step - loss: 3.2923 - accuracy: 0.6529\n",
      "Epoch 64/300\n",
      "242/242 [==============================] - 0s 35us/step - loss: 3.2490 - accuracy: 0.6570\n",
      "Epoch 65/300\n",
      "242/242 [==============================] - 0s 37us/step - loss: 3.2035 - accuracy: 0.6529\n",
      "Epoch 66/300\n",
      "242/242 [==============================] - 0s 41us/step - loss: 3.1632 - accuracy: 0.6488\n",
      "Epoch 67/300\n",
      "242/242 [==============================] - 0s 33us/step - loss: 3.1233 - accuracy: 0.6570\n",
      "Epoch 68/300\n",
      "242/242 [==============================] - 0s 40us/step - loss: 3.0861 - accuracy: 0.6653\n",
      "Epoch 69/300\n",
      "242/242 [==============================] - 0s 36us/step - loss: 3.0460 - accuracy: 0.6653\n",
      "Epoch 70/300\n",
      "242/242 [==============================] - 0s 34us/step - loss: 3.0027 - accuracy: 0.6612\n",
      "Epoch 71/300\n",
      "242/242 [==============================] - 0s 39us/step - loss: 2.9659 - accuracy: 0.6570\n",
      "Epoch 72/300\n",
      "242/242 [==============================] - 0s 34us/step - loss: 2.9308 - accuracy: 0.6529\n",
      "Epoch 73/300\n",
      "242/242 [==============================] - 0s 37us/step - loss: 2.8931 - accuracy: 0.6570\n",
      "Epoch 74/300\n",
      "242/242 [==============================] - 0s 37us/step - loss: 2.8581 - accuracy: 0.6529\n",
      "Epoch 75/300\n",
      "242/242 [==============================] - 0s 32us/step - loss: 2.8220 - accuracy: 0.6570\n",
      "Epoch 76/300\n",
      "242/242 [==============================] - 0s 37us/step - loss: 2.7912 - accuracy: 0.6612\n",
      "Epoch 77/300\n",
      "242/242 [==============================] - 0s 34us/step - loss: 2.7559 - accuracy: 0.6612\n",
      "Epoch 78/300\n",
      "242/242 [==============================] - 0s 37us/step - loss: 2.7217 - accuracy: 0.6653\n",
      "Epoch 79/300\n",
      "242/242 [==============================] - 0s 33us/step - loss: 2.6890 - accuracy: 0.6736\n",
      "Epoch 80/300\n",
      "242/242 [==============================] - 0s 34us/step - loss: 2.6596 - accuracy: 0.6736\n",
      "Epoch 81/300\n",
      "242/242 [==============================] - 0s 37us/step - loss: 2.6246 - accuracy: 0.6694\n",
      "Epoch 82/300\n",
      "242/242 [==============================] - 0s 36us/step - loss: 2.5959 - accuracy: 0.6736\n",
      "Epoch 83/300\n",
      "242/242 [==============================] - 0s 37us/step - loss: 2.5669 - accuracy: 0.6612\n",
      "Epoch 84/300\n",
      "242/242 [==============================] - 0s 33us/step - loss: 2.5468 - accuracy: 0.6694\n",
      "Epoch 85/300\n",
      "242/242 [==============================] - 0s 34us/step - loss: 2.5014 - accuracy: 0.6818\n",
      "Epoch 86/300\n",
      "242/242 [==============================] - 0s 35us/step - loss: 2.4699 - accuracy: 0.6736\n",
      "Epoch 87/300\n",
      "242/242 [==============================] - 0s 34us/step - loss: 2.4521 - accuracy: 0.6818\n",
      "Epoch 88/300\n",
      "242/242 [==============================] - 0s 36us/step - loss: 2.4085 - accuracy: 0.6901\n",
      "Epoch 89/300\n",
      "242/242 [==============================] - 0s 36us/step - loss: 2.3973 - accuracy: 0.6694\n",
      "Epoch 90/300\n",
      "242/242 [==============================] - 0s 36us/step - loss: 2.3468 - accuracy: 0.6860\n",
      "Epoch 91/300\n",
      "242/242 [==============================] - 0s 37us/step - loss: 2.3252 - accuracy: 0.6777\n",
      "Epoch 92/300\n",
      "242/242 [==============================] - 0s 33us/step - loss: 2.3077 - accuracy: 0.6777\n",
      "Epoch 93/300\n",
      "242/242 [==============================] - 0s 37us/step - loss: 2.2686 - accuracy: 0.6860\n",
      "Epoch 94/300\n",
      "242/242 [==============================] - 0s 36us/step - loss: 2.2385 - accuracy: 0.6901\n",
      "Epoch 95/300\n",
      "242/242 [==============================] - 0s 35us/step - loss: 2.2112 - accuracy: 0.6818\n",
      "Epoch 96/300\n",
      "242/242 [==============================] - 0s 38us/step - loss: 2.1858 - accuracy: 0.6860\n",
      "Epoch 97/300\n",
      "242/242 [==============================] - 0s 37us/step - loss: 2.1700 - accuracy: 0.6983\n",
      "Epoch 98/300\n",
      "242/242 [==============================] - 0s 38us/step - loss: 2.1325 - accuracy: 0.6983\n",
      "Epoch 99/300\n",
      "242/242 [==============================] - 0s 41us/step - loss: 2.1066 - accuracy: 0.6983\n",
      "Epoch 100/300\n",
      "242/242 [==============================] - 0s 34us/step - loss: 2.0831 - accuracy: 0.6983\n",
      "Epoch 101/300\n",
      "242/242 [==============================] - 0s 38us/step - loss: 2.0538 - accuracy: 0.7107\n",
      "Epoch 102/300\n",
      "242/242 [==============================] - 0s 40us/step - loss: 2.0327 - accuracy: 0.7190\n",
      "Epoch 103/300\n",
      "242/242 [==============================] - 0s 39us/step - loss: 2.0048 - accuracy: 0.7149\n",
      "Epoch 104/300\n",
      "242/242 [==============================] - 0s 43us/step - loss: 1.9877 - accuracy: 0.7066\n",
      "Epoch 105/300\n",
      "242/242 [==============================] - 0s 41us/step - loss: 1.9637 - accuracy: 0.7149\n",
      "Epoch 106/300\n",
      "242/242 [==============================] - 0s 37us/step - loss: 1.9361 - accuracy: 0.7190\n",
      "Epoch 107/300\n",
      "242/242 [==============================] - 0s 41us/step - loss: 1.9134 - accuracy: 0.7190\n",
      "Epoch 108/300\n",
      "242/242 [==============================] - 0s 41us/step - loss: 1.8986 - accuracy: 0.7149\n",
      "Epoch 109/300\n",
      "242/242 [==============================] - 0s 33us/step - loss: 1.8663 - accuracy: 0.7190\n",
      "Epoch 110/300\n",
      "242/242 [==============================] - 0s 41us/step - loss: 1.8543 - accuracy: 0.7149\n",
      "Epoch 111/300\n",
      "242/242 [==============================] - 0s 36us/step - loss: 1.8227 - accuracy: 0.7149\n",
      "Epoch 112/300\n",
      "242/242 [==============================] - 0s 37us/step - loss: 1.8083 - accuracy: 0.7066\n",
      "Epoch 113/300\n",
      "242/242 [==============================] - 0s 38us/step - loss: 1.7771 - accuracy: 0.7066\n",
      "Epoch 114/300\n",
      "242/242 [==============================] - 0s 32us/step - loss: 1.7766 - accuracy: 0.7107\n",
      "Epoch 115/300\n",
      "242/242 [==============================] - 0s 39us/step - loss: 1.7316 - accuracy: 0.7107\n",
      "Epoch 116/300\n",
      "242/242 [==============================] - 0s 34us/step - loss: 1.7187 - accuracy: 0.7107\n",
      "Epoch 117/300\n",
      "242/242 [==============================] - 0s 35us/step - loss: 1.7019 - accuracy: 0.7149\n",
      "Epoch 118/300\n",
      "242/242 [==============================] - 0s 38us/step - loss: 1.6726 - accuracy: 0.7066\n",
      "Epoch 119/300\n",
      "242/242 [==============================] - 0s 30us/step - loss: 1.6614 - accuracy: 0.7149\n",
      "Epoch 120/300\n",
      "242/242 [==============================] - 0s 39us/step - loss: 1.6371 - accuracy: 0.7066\n",
      "Epoch 121/300\n",
      "242/242 [==============================] - 0s 39us/step - loss: 1.6113 - accuracy: 0.7066\n",
      "Epoch 122/300\n",
      "242/242 [==============================] - 0s 35us/step - loss: 1.5993 - accuracy: 0.7025\n",
      "Epoch 123/300\n",
      "242/242 [==============================] - 0s 40us/step - loss: 1.5715 - accuracy: 0.7107\n",
      "Epoch 124/300\n",
      "242/242 [==============================] - 0s 36us/step - loss: 1.5516 - accuracy: 0.7149\n",
      "Epoch 125/300\n",
      "242/242 [==============================] - 0s 37us/step - loss: 1.5404 - accuracy: 0.7025\n",
      "Epoch 126/300\n",
      "242/242 [==============================] - 0s 40us/step - loss: 1.5203 - accuracy: 0.7066\n",
      "Epoch 127/300\n",
      "242/242 [==============================] - 0s 31us/step - loss: 1.4945 - accuracy: 0.7107\n",
      "Epoch 128/300\n",
      "242/242 [==============================] - 0s 40us/step - loss: 1.4773 - accuracy: 0.7107\n",
      "Epoch 129/300\n",
      "242/242 [==============================] - 0s 41us/step - loss: 1.4814 - accuracy: 0.7107\n",
      "Epoch 130/300\n",
      "242/242 [==============================] - 0s 33us/step - loss: 1.4287 - accuracy: 0.7190\n",
      "Epoch 131/300\n",
      "242/242 [==============================] - 0s 40us/step - loss: 1.4226 - accuracy: 0.7066\n",
      "Epoch 132/300\n",
      "242/242 [==============================] - 0s 34us/step - loss: 1.4016 - accuracy: 0.7107\n",
      "Epoch 133/300\n",
      "242/242 [==============================] - 0s 35us/step - loss: 1.3806 - accuracy: 0.7149\n",
      "Epoch 134/300\n",
      "242/242 [==============================] - 0s 40us/step - loss: 1.3684 - accuracy: 0.7107\n",
      "Epoch 135/300\n",
      "242/242 [==============================] - 0s 33us/step - loss: 1.3428 - accuracy: 0.7107\n",
      "Epoch 136/300\n",
      "242/242 [==============================] - 0s 38us/step - loss: 1.3235 - accuracy: 0.7107\n",
      "Epoch 137/300\n",
      "242/242 [==============================] - 0s 40us/step - loss: 1.3036 - accuracy: 0.7107\n",
      "Epoch 138/300\n",
      "242/242 [==============================] - 0s 37us/step - loss: 1.2948 - accuracy: 0.7066\n",
      "Epoch 139/300\n",
      "242/242 [==============================] - 0s 42us/step - loss: 1.2804 - accuracy: 0.7066\n",
      "Epoch 140/300\n",
      "242/242 [==============================] - 0s 39us/step - loss: 1.2774 - accuracy: 0.7190\n",
      "Epoch 141/300\n",
      "242/242 [==============================] - 0s 36us/step - loss: 1.2444 - accuracy: 0.7107\n",
      "Epoch 142/300\n",
      "242/242 [==============================] - 0s 36us/step - loss: 1.2221 - accuracy: 0.7066\n",
      "Epoch 143/300\n",
      "242/242 [==============================] - 0s 39us/step - loss: 1.2251 - accuracy: 0.7231\n",
      "Epoch 144/300\n",
      "242/242 [==============================] - 0s 35us/step - loss: 1.1880 - accuracy: 0.7066\n",
      "Epoch 145/300\n",
      "242/242 [==============================] - 0s 38us/step - loss: 1.1719 - accuracy: 0.7066\n",
      "Epoch 146/300\n",
      "242/242 [==============================] - 0s 32us/step - loss: 1.1494 - accuracy: 0.7273\n",
      "Epoch 147/300\n",
      "242/242 [==============================] - 0s 36us/step - loss: 1.1494 - accuracy: 0.7314\n",
      "Epoch 148/300\n",
      "242/242 [==============================] - 0s 35us/step - loss: 1.1169 - accuracy: 0.7273\n",
      "Epoch 149/300\n",
      "242/242 [==============================] - 0s 35us/step - loss: 1.1016 - accuracy: 0.7231\n",
      "Epoch 150/300\n",
      "242/242 [==============================] - 0s 37us/step - loss: 1.0931 - accuracy: 0.7190\n",
      "Epoch 151/300\n",
      "242/242 [==============================] - 0s 31us/step - loss: 1.0729 - accuracy: 0.7231\n",
      "Epoch 152/300\n",
      "242/242 [==============================] - 0s 36us/step - loss: 1.0515 - accuracy: 0.7314\n",
      "Epoch 153/300\n",
      "242/242 [==============================] - 0s 31us/step - loss: 1.0414 - accuracy: 0.7273\n",
      "Epoch 154/300\n",
      "242/242 [==============================] - 0s 37us/step - loss: 1.0223 - accuracy: 0.7231\n",
      "Epoch 155/300\n",
      "242/242 [==============================] - 0s 38us/step - loss: 1.0146 - accuracy: 0.7479\n",
      "Epoch 156/300\n",
      "242/242 [==============================] - 0s 32us/step - loss: 0.9965 - accuracy: 0.7314\n",
      "Epoch 157/300\n",
      "242/242 [==============================] - 0s 34us/step - loss: 0.9822 - accuracy: 0.7314\n",
      "Epoch 158/300\n",
      "242/242 [==============================] - 0s 32us/step - loss: 0.9607 - accuracy: 0.7479\n",
      "Epoch 159/300\n",
      "242/242 [==============================] - 0s 40us/step - loss: 0.9489 - accuracy: 0.7521\n",
      "Epoch 160/300\n",
      "242/242 [==============================] - 0s 39us/step - loss: 0.9330 - accuracy: 0.7438\n",
      "Epoch 161/300\n",
      "242/242 [==============================] - 0s 33us/step - loss: 0.9180 - accuracy: 0.7438\n",
      "Epoch 162/300\n",
      "242/242 [==============================] - 0s 38us/step - loss: 0.9044 - accuracy: 0.7479\n",
      "Epoch 163/300\n",
      "242/242 [==============================] - 0s 36us/step - loss: 0.8987 - accuracy: 0.7438\n",
      "Epoch 164/300\n",
      "242/242 [==============================] - 0s 40us/step - loss: 0.8765 - accuracy: 0.7397\n",
      "Epoch 165/300\n",
      "242/242 [==============================] - 0s 36us/step - loss: 0.8683 - accuracy: 0.7438\n",
      "Epoch 166/300\n",
      "242/242 [==============================] - 0s 31us/step - loss: 0.8521 - accuracy: 0.7521\n",
      "Epoch 167/300\n",
      "242/242 [==============================] - 0s 39us/step - loss: 0.8415 - accuracy: 0.7438\n",
      "Epoch 168/300\n",
      "242/242 [==============================] - 0s 39us/step - loss: 0.8420 - accuracy: 0.7521\n",
      "Epoch 169/300\n",
      "242/242 [==============================] - 0s 35us/step - loss: 0.8119 - accuracy: 0.7479\n",
      "Epoch 170/300\n",
      "242/242 [==============================] - 0s 37us/step - loss: 0.8026 - accuracy: 0.7521\n",
      "Epoch 171/300\n",
      "242/242 [==============================] - 0s 32us/step - loss: 0.7893 - accuracy: 0.7438\n",
      "Epoch 172/300\n",
      "242/242 [==============================] - 0s 39us/step - loss: 0.7728 - accuracy: 0.7562\n",
      "Epoch 173/300\n",
      "242/242 [==============================] - 0s 38us/step - loss: 0.7681 - accuracy: 0.7479\n",
      "Epoch 174/300\n",
      "242/242 [==============================] - 0s 31us/step - loss: 0.7494 - accuracy: 0.7603\n",
      "Epoch 175/300\n",
      "242/242 [==============================] - 0s 37us/step - loss: 0.7481 - accuracy: 0.7479\n",
      "Epoch 176/300\n",
      "242/242 [==============================] - 0s 35us/step - loss: 0.7289 - accuracy: 0.7521\n",
      "Epoch 177/300\n",
      "242/242 [==============================] - 0s 35us/step - loss: 0.7184 - accuracy: 0.7603\n",
      "Epoch 178/300\n",
      "242/242 [==============================] - 0s 35us/step - loss: 0.7130 - accuracy: 0.7562\n",
      "Epoch 179/300\n",
      "242/242 [==============================] - 0s 35us/step - loss: 0.7035 - accuracy: 0.7645\n",
      "Epoch 180/300\n",
      "242/242 [==============================] - 0s 41us/step - loss: 0.6850 - accuracy: 0.7645\n",
      "Epoch 181/300\n",
      "242/242 [==============================] - 0s 32us/step - loss: 0.6769 - accuracy: 0.7645\n",
      "Epoch 182/300\n",
      "242/242 [==============================] - 0s 36us/step - loss: 0.6652 - accuracy: 0.7727\n",
      "Epoch 183/300\n",
      "242/242 [==============================] - 0s 34us/step - loss: 0.6602 - accuracy: 0.7645\n",
      "Epoch 184/300\n",
      "242/242 [==============================] - 0s 35us/step - loss: 0.6536 - accuracy: 0.7686\n",
      "Epoch 185/300\n",
      "242/242 [==============================] - 0s 35us/step - loss: 0.6390 - accuracy: 0.7810\n",
      "Epoch 186/300\n",
      "242/242 [==============================] - 0s 34us/step - loss: 0.6287 - accuracy: 0.7769\n",
      "Epoch 187/300\n",
      "242/242 [==============================] - 0s 37us/step - loss: 0.6188 - accuracy: 0.7810\n",
      "Epoch 188/300\n",
      "242/242 [==============================] - 0s 36us/step - loss: 0.6169 - accuracy: 0.7893\n",
      "Epoch 189/300\n",
      "242/242 [==============================] - 0s 35us/step - loss: 0.5997 - accuracy: 0.7769\n",
      "Epoch 190/300\n",
      "242/242 [==============================] - 0s 39us/step - loss: 0.5954 - accuracy: 0.7934\n",
      "Epoch 191/300\n",
      "242/242 [==============================] - 0s 36us/step - loss: 0.5866 - accuracy: 0.7975\n",
      "Epoch 192/300\n",
      "242/242 [==============================] - 0s 37us/step - loss: 0.5877 - accuracy: 0.7810\n",
      "Epoch 193/300\n",
      "242/242 [==============================] - 0s 38us/step - loss: 0.5765 - accuracy: 0.7851\n",
      "Epoch 194/300\n",
      "242/242 [==============================] - 0s 31us/step - loss: 0.5651 - accuracy: 0.7934\n",
      "Epoch 195/300\n",
      "242/242 [==============================] - 0s 39us/step - loss: 0.5558 - accuracy: 0.7975\n",
      "Epoch 196/300\n",
      "242/242 [==============================] - 0s 35us/step - loss: 0.5514 - accuracy: 0.7975\n",
      "Epoch 197/300\n",
      "242/242 [==============================] - 0s 36us/step - loss: 0.5426 - accuracy: 0.8017\n",
      "Epoch 198/300\n",
      "242/242 [==============================] - 0s 37us/step - loss: 0.5368 - accuracy: 0.7975\n",
      "Epoch 199/300\n",
      "242/242 [==============================] - 0s 32us/step - loss: 0.5242 - accuracy: 0.8099\n",
      "Epoch 200/300\n",
      "242/242 [==============================] - 0s 36us/step - loss: 0.5183 - accuracy: 0.8182\n",
      "Epoch 201/300\n",
      "242/242 [==============================] - 0s 35us/step - loss: 0.5127 - accuracy: 0.8182\n",
      "Epoch 202/300\n",
      "242/242 [==============================] - 0s 34us/step - loss: 0.5052 - accuracy: 0.8182\n",
      "Epoch 203/300\n",
      "242/242 [==============================] - 0s 39us/step - loss: 0.5006 - accuracy: 0.8140\n",
      "Epoch 204/300\n",
      "242/242 [==============================] - 0s 32us/step - loss: 0.4933 - accuracy: 0.8264\n",
      "Epoch 205/300\n",
      "242/242 [==============================] - 0s 37us/step - loss: 0.4875 - accuracy: 0.8306\n",
      "Epoch 206/300\n",
      "242/242 [==============================] - 0s 36us/step - loss: 0.4860 - accuracy: 0.8347\n",
      "Epoch 207/300\n",
      "242/242 [==============================] - 0s 34us/step - loss: 0.4833 - accuracy: 0.7851\n",
      "Epoch 208/300\n",
      "242/242 [==============================] - 0s 41us/step - loss: 0.5016 - accuracy: 0.8058\n",
      "Epoch 209/300\n",
      "242/242 [==============================] - 0s 33us/step - loss: 0.4875 - accuracy: 0.7975\n",
      "Epoch 210/300\n",
      "242/242 [==============================] - 0s 36us/step - loss: 0.4684 - accuracy: 0.8099\n",
      "Epoch 211/300\n",
      "242/242 [==============================] - 0s 36us/step - loss: 0.4603 - accuracy: 0.8306\n",
      "Epoch 212/300\n",
      "242/242 [==============================] - 0s 34us/step - loss: 0.4757 - accuracy: 0.8058\n",
      "Epoch 213/300\n",
      "242/242 [==============================] - 0s 41us/step - loss: 0.4599 - accuracy: 0.8058\n",
      "Epoch 214/300\n",
      "242/242 [==============================] - 0s 33us/step - loss: 0.4475 - accuracy: 0.8223\n",
      "Epoch 215/300\n",
      "242/242 [==============================] - 0s 40us/step - loss: 0.4606 - accuracy: 0.8140\n",
      "Epoch 216/300\n",
      "242/242 [==============================] - 0s 40us/step - loss: 0.4385 - accuracy: 0.8430\n",
      "Epoch 217/300\n",
      "242/242 [==============================] - 0s 35us/step - loss: 0.4349 - accuracy: 0.8264\n",
      "Epoch 218/300\n",
      "242/242 [==============================] - 0s 39us/step - loss: 0.4369 - accuracy: 0.8306\n",
      "Epoch 219/300\n",
      "242/242 [==============================] - 0s 39us/step - loss: 0.4362 - accuracy: 0.8264\n",
      "Epoch 220/300\n",
      "242/242 [==============================] - 0s 36us/step - loss: 0.4321 - accuracy: 0.8347\n",
      "Epoch 221/300\n",
      "242/242 [==============================] - 0s 41us/step - loss: 0.4329 - accuracy: 0.8388\n",
      "Epoch 222/300\n",
      "242/242 [==============================] - 0s 41us/step - loss: 0.4339 - accuracy: 0.8388\n",
      "Epoch 223/300\n",
      "242/242 [==============================] - 0s 32us/step - loss: 0.4243 - accuracy: 0.8223\n",
      "Epoch 224/300\n",
      "242/242 [==============================] - 0s 42us/step - loss: 0.4152 - accuracy: 0.8182\n",
      "Epoch 225/300\n",
      "242/242 [==============================] - 0s 38us/step - loss: 0.4243 - accuracy: 0.8388\n",
      "Epoch 226/300\n",
      "242/242 [==============================] - 0s 35us/step - loss: 0.4095 - accuracy: 0.8347\n",
      "Epoch 227/300\n",
      "242/242 [==============================] - 0s 39us/step - loss: 0.4079 - accuracy: 0.8430\n",
      "Epoch 228/300\n",
      "242/242 [==============================] - 0s 33us/step - loss: 0.4129 - accuracy: 0.8388\n",
      "Epoch 229/300\n",
      "242/242 [==============================] - 0s 38us/step - loss: 0.4156 - accuracy: 0.8223\n",
      "Epoch 230/300\n",
      "242/242 [==============================] - 0s 38us/step - loss: 0.4025 - accuracy: 0.8347\n",
      "Epoch 231/300\n",
      "242/242 [==============================] - 0s 36us/step - loss: 0.3981 - accuracy: 0.8347\n",
      "Epoch 232/300\n",
      "242/242 [==============================] - 0s 41us/step - loss: 0.4036 - accuracy: 0.8388\n",
      "Epoch 233/300\n",
      "242/242 [==============================] - 0s 39us/step - loss: 0.3969 - accuracy: 0.8306\n",
      "Epoch 234/300\n",
      "242/242 [==============================] - 0s 35us/step - loss: 0.3939 - accuracy: 0.8264\n",
      "Epoch 235/300\n",
      "242/242 [==============================] - 0s 39us/step - loss: 0.3953 - accuracy: 0.8388\n",
      "Epoch 236/300\n",
      "242/242 [==============================] - 0s 33us/step - loss: 0.3932 - accuracy: 0.8306\n",
      "Epoch 237/300\n",
      "242/242 [==============================] - 0s 37us/step - loss: 0.4096 - accuracy: 0.8306\n",
      "Epoch 238/300\n",
      "242/242 [==============================] - 0s 41us/step - loss: 0.4120 - accuracy: 0.8306\n",
      "Epoch 239/300\n",
      "242/242 [==============================] - 0s 33us/step - loss: 0.3955 - accuracy: 0.8223\n",
      "Epoch 240/300\n",
      "242/242 [==============================] - 0s 42us/step - loss: 0.3978 - accuracy: 0.8430\n",
      "Epoch 241/300\n",
      "242/242 [==============================] - 0s 40us/step - loss: 0.3934 - accuracy: 0.8223\n",
      "Epoch 242/300\n",
      "242/242 [==============================] - 0s 35us/step - loss: 0.3860 - accuracy: 0.8306\n",
      "Epoch 243/300\n",
      "242/242 [==============================] - 0s 44us/step - loss: 0.3884 - accuracy: 0.8347\n",
      "Epoch 244/300\n",
      "242/242 [==============================] - 0s 40us/step - loss: 0.3838 - accuracy: 0.8347\n",
      "Epoch 245/300\n",
      "242/242 [==============================] - 0s 33us/step - loss: 0.3820 - accuracy: 0.8388\n",
      "Epoch 246/300\n",
      "242/242 [==============================] - 0s 39us/step - loss: 0.3810 - accuracy: 0.8388\n",
      "Epoch 247/300\n",
      "242/242 [==============================] - 0s 36us/step - loss: 0.3823 - accuracy: 0.8264\n",
      "Epoch 248/300\n",
      "242/242 [==============================] - 0s 37us/step - loss: 0.3782 - accuracy: 0.8430\n",
      "Epoch 249/300\n",
      "242/242 [==============================] - 0s 40us/step - loss: 0.3806 - accuracy: 0.8388\n",
      "Epoch 250/300\n",
      "242/242 [==============================] - 0s 31us/step - loss: 0.3841 - accuracy: 0.8388\n",
      "Epoch 251/300\n",
      "242/242 [==============================] - 0s 42us/step - loss: 0.3772 - accuracy: 0.8306\n",
      "Epoch 252/300\n",
      "242/242 [==============================] - 0s 38us/step - loss: 0.3793 - accuracy: 0.8347\n",
      "Epoch 253/300\n",
      "242/242 [==============================] - 0s 31us/step - loss: 0.3767 - accuracy: 0.8471\n",
      "Epoch 254/300\n",
      "242/242 [==============================] - 0s 41us/step - loss: 0.3761 - accuracy: 0.8388\n",
      "Epoch 255/300\n",
      "242/242 [==============================] - 0s 37us/step - loss: 0.3759 - accuracy: 0.8347\n",
      "Epoch 256/300\n",
      "242/242 [==============================] - 0s 36us/step - loss: 0.3765 - accuracy: 0.8347\n",
      "Epoch 257/300\n",
      "242/242 [==============================] - 0s 43us/step - loss: 0.3743 - accuracy: 0.8388\n",
      "Epoch 258/300\n",
      "242/242 [==============================] - 0s 40us/step - loss: 0.3745 - accuracy: 0.8347\n",
      "Epoch 259/300\n",
      "242/242 [==============================] - 0s 41us/step - loss: 0.3753 - accuracy: 0.8264\n",
      "Epoch 260/300\n",
      "242/242 [==============================] - 0s 40us/step - loss: 0.3731 - accuracy: 0.8388\n",
      "Epoch 261/300\n",
      "242/242 [==============================] - 0s 40us/step - loss: 0.3750 - accuracy: 0.8306\n",
      "Epoch 262/300\n",
      "242/242 [==============================] - 0s 42us/step - loss: 0.3730 - accuracy: 0.8430\n",
      "Epoch 263/300\n",
      "242/242 [==============================] - 0s 41us/step - loss: 0.3731 - accuracy: 0.8347\n",
      "Epoch 264/300\n",
      "242/242 [==============================] - 0s 39us/step - loss: 0.3759 - accuracy: 0.8223\n",
      "Epoch 265/300\n",
      "242/242 [==============================] - 0s 37us/step - loss: 0.3818 - accuracy: 0.8306\n",
      "Epoch 266/300\n",
      "242/242 [==============================] - 0s 40us/step - loss: 0.3786 - accuracy: 0.8264\n",
      "Epoch 267/300\n",
      "242/242 [==============================] - 0s 39us/step - loss: 0.3706 - accuracy: 0.8347\n",
      "Epoch 268/300\n",
      "242/242 [==============================] - 0s 36us/step - loss: 0.3705 - accuracy: 0.8347\n",
      "Epoch 269/300\n",
      "242/242 [==============================] - 0s 40us/step - loss: 0.3702 - accuracy: 0.8430\n",
      "Epoch 270/300\n",
      "242/242 [==============================] - 0s 30us/step - loss: 0.3706 - accuracy: 0.8430\n",
      "Epoch 271/300\n",
      "242/242 [==============================] - 0s 37us/step - loss: 0.3704 - accuracy: 0.8388\n",
      "Epoch 272/300\n",
      "242/242 [==============================] - 0s 36us/step - loss: 0.3793 - accuracy: 0.8182\n",
      "Epoch 273/300\n",
      "242/242 [==============================] - 0s 33us/step - loss: 0.3727 - accuracy: 0.8388\n",
      "Epoch 274/300\n",
      "242/242 [==============================] - 0s 38us/step - loss: 0.3675 - accuracy: 0.8430\n",
      "Epoch 275/300\n",
      "242/242 [==============================] - 0s 32us/step - loss: 0.3828 - accuracy: 0.8306\n",
      "Epoch 276/300\n",
      "242/242 [==============================] - 0s 36us/step - loss: 0.3642 - accuracy: 0.8512\n",
      "Epoch 277/300\n",
      "242/242 [==============================] - 0s 36us/step - loss: 0.3731 - accuracy: 0.8347\n",
      "Epoch 278/300\n",
      "242/242 [==============================] - 0s 34us/step - loss: 0.3793 - accuracy: 0.8347\n",
      "Epoch 279/300\n",
      "242/242 [==============================] - 0s 39us/step - loss: 0.3725 - accuracy: 0.8347\n",
      "Epoch 280/300\n",
      "242/242 [==============================] - 0s 34us/step - loss: 0.3663 - accuracy: 0.8347\n",
      "Epoch 281/300\n",
      "242/242 [==============================] - 0s 38us/step - loss: 0.3722 - accuracy: 0.8223\n",
      "Epoch 282/300\n",
      "242/242 [==============================] - 0s 37us/step - loss: 0.3792 - accuracy: 0.8388\n",
      "Epoch 283/300\n",
      "242/242 [==============================] - 0s 35us/step - loss: 0.3704 - accuracy: 0.8347\n",
      "Epoch 284/300\n",
      "242/242 [==============================] - 0s 42us/step - loss: 0.3694 - accuracy: 0.8264\n",
      "Epoch 285/300\n",
      "242/242 [==============================] - 0s 36us/step - loss: 0.3647 - accuracy: 0.8388\n",
      "Epoch 286/300\n",
      "242/242 [==============================] - 0s 37us/step - loss: 0.3668 - accuracy: 0.8430\n",
      "Epoch 287/300\n",
      "242/242 [==============================] - 0s 39us/step - loss: 0.3678 - accuracy: 0.8264\n",
      "Epoch 288/300\n",
      "242/242 [==============================] - 0s 33us/step - loss: 0.3661 - accuracy: 0.8347\n",
      "Epoch 289/300\n",
      "242/242 [==============================] - 0s 40us/step - loss: 0.3664 - accuracy: 0.8471\n",
      "Epoch 290/300\n",
      "242/242 [==============================] - 0s 40us/step - loss: 0.3672 - accuracy: 0.8388\n",
      "Epoch 291/300\n",
      "242/242 [==============================] - 0s 32us/step - loss: 0.3762 - accuracy: 0.8264\n",
      "Epoch 292/300\n",
      "242/242 [==============================] - 0s 39us/step - loss: 0.3726 - accuracy: 0.8347\n",
      "Epoch 293/300\n",
      "242/242 [==============================] - 0s 37us/step - loss: 0.3660 - accuracy: 0.8471\n",
      "Epoch 294/300\n",
      "242/242 [==============================] - 0s 34us/step - loss: 0.3733 - accuracy: 0.8264\n",
      "Epoch 295/300\n",
      "242/242 [==============================] - 0s 40us/step - loss: 0.3671 - accuracy: 0.8347\n",
      "Epoch 296/300\n",
      "242/242 [==============================] - 0s 32us/step - loss: 0.3742 - accuracy: 0.8306\n",
      "Epoch 297/300\n",
      "242/242 [==============================] - 0s 37us/step - loss: 0.3817 - accuracy: 0.8306\n",
      "Epoch 298/300\n",
      "242/242 [==============================] - 0s 35us/step - loss: 0.3649 - accuracy: 0.8388\n",
      "Epoch 299/300\n",
      "242/242 [==============================] - 0s 33us/step - loss: 0.3672 - accuracy: 0.8306\n",
      "Epoch 300/300\n",
      "242/242 [==============================] - 0s 39us/step - loss: 0.3646 - accuracy: 0.8430\n"
     ]
    },
    {
     "data": {
      "text/plain": [
       "<keras.callbacks.callbacks.History at 0x1a3b3aa850>"
      ]
     },
     "execution_count": 66,
     "metadata": {},
     "output_type": "execute_result"
    }
   ],
   "source": [
    "model.fit(X_train,Y_train,epochs=300)"
   ]
  },
  {
   "cell_type": "code",
   "execution_count": 67,
   "metadata": {},
   "outputs": [
    {
     "data": {
      "text/plain": [
       "(61, 1)"
      ]
     },
     "execution_count": 67,
     "metadata": {},
     "output_type": "execute_result"
    }
   ],
   "source": [
    "Y_pred_nn = model.predict(X_test)\n",
    "Y_pred_nn.shape"
   ]
  },
  {
   "cell_type": "code",
   "execution_count": 68,
   "metadata": {},
   "outputs": [],
   "source": [
    "rounded = [round(x[0]) for x in Y_pred_nn]\n",
    "\n",
    "Y_pred_nn = rounded"
   ]
  },
  {
   "cell_type": "code",
   "execution_count": 69,
   "metadata": {},
   "outputs": [
    {
     "ename": "TypeError",
     "evalue": "'numpy.float64' object is not callable",
     "output_type": "error",
     "traceback": [
      "\u001b[0;31m---------------------------------------------------------------------------\u001b[0m",
      "\u001b[0;31mTypeError\u001b[0m                                 Traceback (most recent call last)",
      "\u001b[0;32m<ipython-input-69-ae150fa719bf>\u001b[0m in \u001b[0;36m<module>\u001b[0;34m\u001b[0m\n\u001b[0;32m----> 1\u001b[0;31m \u001b[0mscore_nn\u001b[0m \u001b[0;34m=\u001b[0m \u001b[0mround\u001b[0m\u001b[0;34m(\u001b[0m\u001b[0maccuracy_score\u001b[0m\u001b[0;34m(\u001b[0m\u001b[0mY_pred_nn\u001b[0m\u001b[0;34m,\u001b[0m\u001b[0mY_test\u001b[0m\u001b[0;34m)\u001b[0m\u001b[0;34m*\u001b[0m\u001b[0;36m100\u001b[0m\u001b[0;34m,\u001b[0m\u001b[0;36m2\u001b[0m\u001b[0;34m)\u001b[0m\u001b[0;34m\u001b[0m\u001b[0;34m\u001b[0m\u001b[0m\n\u001b[0m\u001b[1;32m      2\u001b[0m \u001b[0;34m\u001b[0m\u001b[0m\n\u001b[1;32m      3\u001b[0m \u001b[0mprint\u001b[0m\u001b[0;34m(\u001b[0m\u001b[0;34m\"The accuracy score achieved using Neural Network is: \"\u001b[0m\u001b[0;34m+\u001b[0m\u001b[0mstr\u001b[0m\u001b[0;34m(\u001b[0m\u001b[0mscore_nn\u001b[0m\u001b[0;34m)\u001b[0m\u001b[0;34m+\u001b[0m\u001b[0;34m\" %\"\u001b[0m\u001b[0;34m)\u001b[0m\u001b[0;34m\u001b[0m\u001b[0;34m\u001b[0m\u001b[0m\n\u001b[1;32m      4\u001b[0m \u001b[0;34m\u001b[0m\u001b[0m\n",
      "\u001b[0;31mTypeError\u001b[0m: 'numpy.float64' object is not callable"
     ]
    }
   ],
   "source": [
    "score_nn = round(accuracy_score(Y_pred_nn,Y_test)*100,2)\n",
    "\n",
    "print(\"The accuracy score achieved using Neural Network is: \"+str(score_nn)+\" %\")\n",
    "\n"
   ]
  },
  {
   "cell_type": "markdown",
   "metadata": {},
   "source": [
    "# final output"
   ]
  },
  {
   "cell_type": "code",
   "execution_count": 73,
   "metadata": {},
   "outputs": [
    {
     "ename": "NameError",
     "evalue": "name 'accuracy_test' is not defined",
     "output_type": "error",
     "traceback": [
      "\u001b[0;31m---------------------------------------------------------------------------\u001b[0m",
      "\u001b[0;31mNameError\u001b[0m                                 Traceback (most recent call last)",
      "\u001b[0;32m<ipython-input-73-598604b52005>\u001b[0m in \u001b[0;36m<module>\u001b[0;34m\u001b[0m\n\u001b[0;32m----> 1\u001b[0;31m \u001b[0mscores\u001b[0m \u001b[0;34m=\u001b[0m \u001b[0;34m[\u001b[0m\u001b[0mscore_lr\u001b[0m\u001b[0;34m,\u001b[0m\u001b[0mscore_nb\u001b[0m\u001b[0;34m,\u001b[0m\u001b[0mpercentage_svm\u001b[0m\u001b[0;34m,\u001b[0m\u001b[0mpredict_knn\u001b[0m\u001b[0;34m,\u001b[0m\u001b[0mscore_dt\u001b[0m\u001b[0;34m,\u001b[0m\u001b[0maccuracy_score\u001b[0m\u001b[0;34m,\u001b[0m\u001b[0maccuracy_test\u001b[0m\u001b[0;34m,\u001b[0m\u001b[0mscore_nn\u001b[0m\u001b[0;34m]\u001b[0m\u001b[0;34m\u001b[0m\u001b[0;34m\u001b[0m\u001b[0m\n\u001b[0m\u001b[1;32m      2\u001b[0m \u001b[0malgorithms\u001b[0m \u001b[0;34m=\u001b[0m \u001b[0;34m[\u001b[0m\u001b[0;34m\"Logistic Regression\"\u001b[0m\u001b[0;34m,\u001b[0m\u001b[0;34m\"Naive Bayes\"\u001b[0m\u001b[0;34m,\u001b[0m\u001b[0;34m\"Support Vector Machine\"\u001b[0m\u001b[0;34m,\u001b[0m\u001b[0;34m\"K-Nearest Neighbors\"\u001b[0m\u001b[0;34m,\u001b[0m\u001b[0;34m\"Decision Tree\"\u001b[0m\u001b[0;34m,\u001b[0m\u001b[0;34m\"Random Forest\"\u001b[0m\u001b[0;34m,\u001b[0m\u001b[0;34m\"XGBoost\"\u001b[0m\u001b[0;34m,\u001b[0m\u001b[0;34m\"Neural Network\"\u001b[0m\u001b[0;34m]\u001b[0m\u001b[0;34m\u001b[0m\u001b[0;34m\u001b[0m\u001b[0m\n\u001b[1;32m      3\u001b[0m \u001b[0;34m\u001b[0m\u001b[0m\n\u001b[1;32m      4\u001b[0m \u001b[0;32mfor\u001b[0m \u001b[0mi\u001b[0m \u001b[0;32min\u001b[0m \u001b[0mrange\u001b[0m\u001b[0;34m(\u001b[0m\u001b[0mlen\u001b[0m\u001b[0;34m(\u001b[0m\u001b[0malgorithms\u001b[0m\u001b[0;34m)\u001b[0m\u001b[0;34m)\u001b[0m\u001b[0;34m:\u001b[0m\u001b[0;34m\u001b[0m\u001b[0;34m\u001b[0m\u001b[0m\n\u001b[1;32m      5\u001b[0m     \u001b[0mprint\u001b[0m\u001b[0;34m(\u001b[0m\u001b[0;34m\"The accuracy score achieved using \"\u001b[0m\u001b[0;34m+\u001b[0m\u001b[0malgorithms\u001b[0m\u001b[0;34m[\u001b[0m\u001b[0mi\u001b[0m\u001b[0;34m]\u001b[0m\u001b[0;34m+\u001b[0m\u001b[0;34m\" is: \"\u001b[0m\u001b[0;34m+\u001b[0m\u001b[0mstr\u001b[0m\u001b[0;34m(\u001b[0m\u001b[0mscores\u001b[0m\u001b[0;34m[\u001b[0m\u001b[0mi\u001b[0m\u001b[0;34m]\u001b[0m\u001b[0;34m)\u001b[0m\u001b[0;34m+\u001b[0m\u001b[0;34m\" %\"\u001b[0m\u001b[0;34m)\u001b[0m\u001b[0;34m\u001b[0m\u001b[0;34m\u001b[0m\u001b[0m\n",
      "\u001b[0;31mNameError\u001b[0m: name 'accuracy_test' is not defined"
     ]
    }
   ],
   "source": [
    "scores = [score_lr,score_nb,percentage_svm,predict_knn,score_dt,accuracy_score,accuracy_test,score_nn]\n",
    "algorithms = [\"Logistic Regression\",\"Naive Bayes\",\"Support Vector Machine\",\"K-Nearest Neighbors\",\"Decision Tree\",\"Random Forest\",\"XGBoost\",\"Neural Network\"]    \n",
    "\n",
    "for i in range(len(algorithms)):\n",
    "    print(\"The accuracy score achieved using \"+algorithms[i]+\" is: \"+str(scores[i])+\" %\")"
   ]
  },
  {
   "cell_type": "code",
   "execution_count": 71,
   "metadata": {},
   "outputs": [
    {
     "ename": "NameError",
     "evalue": "name 'algorithms' is not defined",
     "output_type": "error",
     "traceback": [
      "\u001b[0;31m---------------------------------------------------------------------------\u001b[0m",
      "\u001b[0;31mNameError\u001b[0m                                 Traceback (most recent call last)",
      "\u001b[0;32m<ipython-input-71-ab65e036a009>\u001b[0m in \u001b[0;36m<module>\u001b[0;34m\u001b[0m\n\u001b[1;32m      3\u001b[0m \u001b[0mplt\u001b[0m\u001b[0;34m.\u001b[0m\u001b[0mylabel\u001b[0m\u001b[0;34m(\u001b[0m\u001b[0;34m\"Accuracy score\"\u001b[0m\u001b[0;34m)\u001b[0m\u001b[0;34m\u001b[0m\u001b[0;34m\u001b[0m\u001b[0m\n\u001b[1;32m      4\u001b[0m \u001b[0;34m\u001b[0m\u001b[0m\n\u001b[0;32m----> 5\u001b[0;31m \u001b[0msns\u001b[0m\u001b[0;34m.\u001b[0m\u001b[0mbarplot\u001b[0m\u001b[0;34m(\u001b[0m\u001b[0malgorithms\u001b[0m\u001b[0;34m,\u001b[0m\u001b[0mscores\u001b[0m\u001b[0;34m)\u001b[0m\u001b[0;34m\u001b[0m\u001b[0;34m\u001b[0m\u001b[0m\n\u001b[0m",
      "\u001b[0;31mNameError\u001b[0m: name 'algorithms' is not defined"
     ]
    },
    {
     "data": {
      "image/png": "[encoded data removed]",
      "text/plain": [
       "<Figure size 1080x576 with 1 Axes>"
      ]
     },
     "metadata": {},
     "output_type": "display_data"
    }
   ],
   "source": [
    "sns.set(rc={'figure.figsize':(15,8)})\n",
    "plt.xlabel(\"Algorithms\")\n",
    "plt.ylabel(\"Accuracy score\")\n",
    "\n",
    "sns.barplot(algorithms,scores)"
   ]
  },
  {
   "cell_type": "markdown",
   "metadata": {},
   "source": [
    "# random forest has good result compare to other models"
   ]
  }
 ],
 "metadata": {
  "kernelspec": {
   "display_name": "Python 3",
   "language": "python",
   "name": "python3"
  },
  "language_info": {
   "codemirror_mode": {
    "name": "ipython",
    "version": 3
   },
   "file_extension": ".py",
   "mimetype": "text/x-python",
   "name": "python",
   "nbconvert_exporter": "python",
   "pygments_lexer": "ipython3",
   "version": "3.7.6"
  }
 },
 "nbformat": 4,
 "nbformat_minor": 4
}
